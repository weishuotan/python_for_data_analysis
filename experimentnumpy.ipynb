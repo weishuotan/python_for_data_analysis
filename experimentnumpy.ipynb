{
 "cells": [
  {
   "cell_type": "code",
   "execution_count": 39,
   "id": "d10621a9",
   "metadata": {},
   "outputs": [],
   "source": [
    "import numpy as np"
   ]
  },
  {
   "cell_type": "code",
   "execution_count": 40,
   "id": "2baf6940",
   "metadata": {},
   "outputs": [
    {
     "data": {
      "text/plain": [
       "array([1, 2, 3, 4, 5, 6])"
      ]
     },
     "execution_count": 40,
     "metadata": {},
     "output_type": "execute_result"
    }
   ],
   "source": [
    "np1 = np.array([1,2,3,4,5,6])\n",
    "np2 = np.array([[1,2,3],[4,5,6]])\n",
    "np1 "
   ]
  },
  {
   "cell_type": "code",
   "execution_count": 41,
   "id": "1323dfc4",
   "metadata": {},
   "outputs": [
    {
     "data": {
      "text/plain": [
       "array([[1, 2, 3],\n",
       "       [4, 5, 6]])"
      ]
     },
     "execution_count": 41,
     "metadata": {},
     "output_type": "execute_result"
    }
   ],
   "source": [
    "np2"
   ]
  },
  {
   "cell_type": "code",
   "execution_count": 42,
   "id": "3c9766d6",
   "metadata": {},
   "outputs": [
    {
     "data": {
      "text/plain": [
       "array(['1', '2', '3'], dtype='<U11')"
      ]
     },
     "execution_count": 42,
     "metadata": {},
     "output_type": "execute_result"
    }
   ],
   "source": [
    "np3 = np.array((1,2,'3'))\n",
    "np3"
   ]
  },
  {
   "cell_type": "code",
   "execution_count": 43,
   "id": "18d4e294",
   "metadata": {},
   "outputs": [
    {
     "data": {
      "text/plain": [
       "array([[0., 0., 0., 0.],\n",
       "       [0., 0., 0., 0.],\n",
       "       [0., 0., 0., 0.]])"
      ]
     },
     "execution_count": 43,
     "metadata": {},
     "output_type": "execute_result"
    }
   ],
   "source": [
    "np4=np.zeros((3,4))\n",
    "np4"
   ]
  },
  {
   "cell_type": "code",
   "execution_count": 44,
   "id": "ce19f6aa",
   "metadata": {},
   "outputs": [
    {
     "data": {
      "text/plain": [
       "array([[1., 1., 1., 1.],\n",
       "       [1., 1., 1., 1.],\n",
       "       [1., 1., 1., 1.]])"
      ]
     },
     "execution_count": 44,
     "metadata": {},
     "output_type": "execute_result"
    }
   ],
   "source": [
    "np5=np.ones((3,4))\n",
    "np5"
   ]
  },
  {
   "cell_type": "code",
   "execution_count": 45,
   "id": "95f529dd",
   "metadata": {},
   "outputs": [
    {
     "data": {
      "text/plain": [
       "array([[1., 1., 1., 1.],\n",
       "       [1., 1., 1., 1.],\n",
       "       [1., 1., 1., 1.]])"
      ]
     },
     "execution_count": 45,
     "metadata": {},
     "output_type": "execute_result"
    }
   ],
   "source": [
    "np6=np.empty((3,4))\n",
    "np6"
   ]
  },
  {
   "cell_type": "code",
   "execution_count": 46,
   "id": "8f26677f",
   "metadata": {},
   "outputs": [
    {
     "data": {
      "text/plain": [
       "array([ 1. ,  1.5,  2. ,  2.5,  3. ,  3.5,  4. ,  4.5,  5. ,  5.5,  6. ,\n",
       "        6.5,  7. ,  7.5,  8. ,  8.5,  9. ,  9.5, 10. , 10.5, 11. , 11.5,\n",
       "       12. , 12.5, 13. , 13.5, 14. , 14.5, 15. , 15.5, 16. , 16.5, 17. ,\n",
       "       17.5, 18. , 18.5, 19. , 19.5])"
      ]
     },
     "execution_count": 46,
     "metadata": {},
     "output_type": "execute_result"
    }
   ],
   "source": [
    "np.arange(1,20,.5)"
   ]
  },
  {
   "cell_type": "code",
   "execution_count": 47,
   "id": "42ad36d2",
   "metadata": {},
   "outputs": [
    {
     "data": {
      "text/plain": [
       "[1, 6, 11, 16]"
      ]
     },
     "execution_count": 47,
     "metadata": {},
     "output_type": "execute_result"
    }
   ],
   "source": [
    "list(i for i in range(1,20,5))"
   ]
  },
  {
   "cell_type": "code",
   "execution_count": 48,
   "id": "df4dce48",
   "metadata": {},
   "outputs": [
    {
     "data": {
      "text/plain": [
       "array([ 1.        ,  1.19191919,  1.38383838,  1.57575758,  1.76767677,\n",
       "        1.95959596,  2.15151515,  2.34343434,  2.53535354,  2.72727273,\n",
       "        2.91919192,  3.11111111,  3.3030303 ,  3.49494949,  3.68686869,\n",
       "        3.87878788,  4.07070707,  4.26262626,  4.45454545,  4.64646465,\n",
       "        4.83838384,  5.03030303,  5.22222222,  5.41414141,  5.60606061,\n",
       "        5.7979798 ,  5.98989899,  6.18181818,  6.37373737,  6.56565657,\n",
       "        6.75757576,  6.94949495,  7.14141414,  7.33333333,  7.52525253,\n",
       "        7.71717172,  7.90909091,  8.1010101 ,  8.29292929,  8.48484848,\n",
       "        8.67676768,  8.86868687,  9.06060606,  9.25252525,  9.44444444,\n",
       "        9.63636364,  9.82828283, 10.02020202, 10.21212121, 10.4040404 ,\n",
       "       10.5959596 , 10.78787879, 10.97979798, 11.17171717, 11.36363636,\n",
       "       11.55555556, 11.74747475, 11.93939394, 12.13131313, 12.32323232,\n",
       "       12.51515152, 12.70707071, 12.8989899 , 13.09090909, 13.28282828,\n",
       "       13.47474747, 13.66666667, 13.85858586, 14.05050505, 14.24242424,\n",
       "       14.43434343, 14.62626263, 14.81818182, 15.01010101, 15.2020202 ,\n",
       "       15.39393939, 15.58585859, 15.77777778, 15.96969697, 16.16161616,\n",
       "       16.35353535, 16.54545455, 16.73737374, 16.92929293, 17.12121212,\n",
       "       17.31313131, 17.50505051, 17.6969697 , 17.88888889, 18.08080808,\n",
       "       18.27272727, 18.46464646, 18.65656566, 18.84848485, 19.04040404,\n",
       "       19.23232323, 19.42424242, 19.61616162, 19.80808081, 20.        ])"
      ]
     },
     "execution_count": 48,
     "metadata": {},
     "output_type": "execute_result"
    }
   ],
   "source": [
    "np.linspace(1,20,100) #可以取到20.但是range和arange取不到"
   ]
  },
  {
   "cell_type": "code",
   "execution_count": 49,
   "id": "588a197c",
   "metadata": {},
   "outputs": [
    {
     "data": {
      "text/plain": [
       "array([[1, 2],\n",
       "       [3, 4],\n",
       "       [5, 6]])"
      ]
     },
     "execution_count": 49,
     "metadata": {},
     "output_type": "execute_result"
    }
   ],
   "source": [
    "my_dict = {'a': (1, 2), 'b': (3, 4), 'c': (5, 6)}\n",
    "my_array = np.array(list(my_dict.values()))\n",
    "my_array"
   ]
  },
  {
   "cell_type": "code",
   "execution_count": 50,
   "id": "8a3a5651",
   "metadata": {},
   "outputs": [],
   "source": [
    "my_dict = {'a': [1, 2, 3], 'b': [4, 5, 6], 'c': [7, 8, 9]}\n",
    "my_array = np.array(list(my_dict.values()))\n",
    "my_array = np.vstack(my_array)"
   ]
  },
  {
   "cell_type": "code",
   "execution_count": 51,
   "id": "1aefd877",
   "metadata": {},
   "outputs": [
    {
     "data": {
      "text/plain": [
       "array([[1, 2, 3],\n",
       "       [4, 5, 6],\n",
       "       [7, 8, 9]])"
      ]
     },
     "execution_count": 51,
     "metadata": {},
     "output_type": "execute_result"
    }
   ],
   "source": [
    "my_array"
   ]
  },
  {
   "cell_type": "code",
   "execution_count": 52,
   "id": "47344b25",
   "metadata": {},
   "outputs": [
    {
     "name": "stdout",
     "output_type": "stream",
     "text": [
      "dict_items([('a', [1, 2, 3]), ('b', [4, 5, 6]), ('c', [7, 8, 9])])\n"
     ]
    }
   ],
   "source": [
    "my_dict = {'a': [1, 2, 3], 'b': [4, 5, 6], 'c': [7, 8, 9]}\n",
    "my_array = np.array(my_dict.items())\n",
    "\n",
    "print(my_array)"
   ]
  },
  {
   "cell_type": "code",
   "execution_count": 53,
   "id": "41579265",
   "metadata": {},
   "outputs": [
    {
     "data": {
      "text/plain": [
       "'object'"
      ]
     },
     "execution_count": 53,
     "metadata": {},
     "output_type": "execute_result"
    }
   ],
   "source": [
    "my_array.dtype.name"
   ]
  },
  {
   "cell_type": "code",
   "execution_count": 54,
   "id": "df9d57b0",
   "metadata": {},
   "outputs": [],
   "source": [
    "np1_float = np1.astype(np.float64)"
   ]
  },
  {
   "cell_type": "code",
   "execution_count": 55,
   "id": "ccc21731",
   "metadata": {},
   "outputs": [
    {
     "data": {
      "text/plain": [
       "array([1., 2., 3., 4., 5., 6.])"
      ]
     },
     "execution_count": 55,
     "metadata": {},
     "output_type": "execute_result"
    }
   ],
   "source": [
    "np1_float"
   ]
  },
  {
   "cell_type": "code",
   "execution_count": 56,
   "id": "6f828171",
   "metadata": {},
   "outputs": [],
   "source": [
    "#np7 = np.array(['1','2','a'])\n",
    "#np7.astype([np.int64,np.int64,np.object])\n",
    "#np7"
   ]
  },
  {
   "cell_type": "markdown",
   "id": "369c5086",
   "metadata": {},
   "source": [
    "## 矢量化运算"
   ]
  },
  {
   "cell_type": "code",
   "execution_count": 57,
   "id": "229815b6",
   "metadata": {},
   "outputs": [
    {
     "data": {
      "text/plain": [
       "array([[1, 2, 3],\n",
       "       [4, 5, 6]])"
      ]
     },
     "execution_count": 57,
     "metadata": {},
     "output_type": "execute_result"
    }
   ],
   "source": [
    "data1  = np.array([[1,2,3],[4,5,6]])\n",
    "data2  = np.array([[1,2,3],[4,5,6]])\n",
    "data1"
   ]
  },
  {
   "cell_type": "code",
   "execution_count": 58,
   "id": "e6564e01",
   "metadata": {},
   "outputs": [
    {
     "data": {
      "text/plain": [
       "array([[1, 2, 3],\n",
       "       [4, 5, 6]])"
      ]
     },
     "execution_count": 58,
     "metadata": {},
     "output_type": "execute_result"
    }
   ],
   "source": [
    "data2"
   ]
  },
  {
   "cell_type": "code",
   "execution_count": 59,
   "id": "55d6ee4d",
   "metadata": {},
   "outputs": [
    {
     "data": {
      "text/plain": [
       "array([[ 2,  4,  6],\n",
       "       [ 8, 10, 12]])"
      ]
     },
     "execution_count": 59,
     "metadata": {},
     "output_type": "execute_result"
    }
   ],
   "source": [
    "data1+data2"
   ]
  },
  {
   "cell_type": "code",
   "execution_count": 60,
   "id": "6c1910fa",
   "metadata": {},
   "outputs": [
    {
     "data": {
      "text/plain": [
       "array([[ 1,  4,  9],\n",
       "       [16, 25, 36]])"
      ]
     },
     "execution_count": 60,
     "metadata": {},
     "output_type": "execute_result"
    }
   ],
   "source": [
    "data1*data2"
   ]
  },
  {
   "cell_type": "code",
   "execution_count": 61,
   "id": "867436b6",
   "metadata": {},
   "outputs": [
    {
     "data": {
      "text/plain": [
       "array([[1., 1., 1.],\n",
       "       [1., 1., 1.]])"
      ]
     },
     "execution_count": 61,
     "metadata": {},
     "output_type": "execute_result"
    }
   ],
   "source": [
    "data1/data2  #数组相除时得到的结果是浮点数"
   ]
  },
  {
   "cell_type": "code",
   "execution_count": 62,
   "id": "5e0053b5",
   "metadata": {},
   "outputs": [
    {
     "data": {
      "text/plain": [
       "array([[0, 0, 0],\n",
       "       [0, 0, 0]])"
      ]
     },
     "execution_count": 62,
     "metadata": {},
     "output_type": "execute_result"
    }
   ],
   "source": [
    "data1-data2"
   ]
  },
  {
   "cell_type": "markdown",
   "id": "c301d76f",
   "metadata": {},
   "source": [
    "## 数组广播"
   ]
  },
  {
   "cell_type": "code",
   "execution_count": 63,
   "id": "8688046f",
   "metadata": {},
   "outputs": [
    {
     "data": {
      "text/plain": [
       "(4, 1)"
      ]
     },
     "execution_count": 63,
     "metadata": {},
     "output_type": "execute_result"
    }
   ],
   "source": [
    "arr1 = np.array([[1],[2],[3],[4]])\n",
    "arr1.shape"
   ]
  },
  {
   "cell_type": "code",
   "execution_count": 64,
   "id": "682883c4",
   "metadata": {},
   "outputs": [
    {
     "data": {
      "text/plain": [
       "(3,)"
      ]
     },
     "execution_count": 64,
     "metadata": {},
     "output_type": "execute_result"
    }
   ],
   "source": [
    "arr2 = np.array([1,2,3])\n",
    "arr2.shape"
   ]
  },
  {
   "cell_type": "code",
   "execution_count": 65,
   "id": "a845aba5",
   "metadata": {},
   "outputs": [
    {
     "data": {
      "text/plain": [
       "array([[2, 3, 4],\n",
       "       [3, 4, 5],\n",
       "       [4, 5, 6],\n",
       "       [5, 6, 7]])"
      ]
     },
     "execution_count": 65,
     "metadata": {},
     "output_type": "execute_result"
    }
   ],
   "source": [
    "arr1+arr2"
   ]
  },
  {
   "cell_type": "code",
   "execution_count": 66,
   "id": "dd4373f2",
   "metadata": {},
   "outputs": [
    {
     "data": {
      "text/plain": [
       "array([[1],\n",
       "       [2],\n",
       "       [3],\n",
       "       [4]])"
      ]
     },
     "execution_count": 66,
     "metadata": {},
     "output_type": "execute_result"
    }
   ],
   "source": [
    "arr1"
   ]
  },
  {
   "cell_type": "code",
   "execution_count": 67,
   "id": "5905f97b",
   "metadata": {},
   "outputs": [
    {
     "data": {
      "text/plain": [
       "array([1, 2, 3])"
      ]
     },
     "execution_count": 67,
     "metadata": {},
     "output_type": "execute_result"
    }
   ],
   "source": [
    "arr2"
   ]
  },
  {
   "cell_type": "markdown",
   "id": "98a61891",
   "metadata": {},
   "source": [
    "## 数组与标量之间的运算"
   ]
  },
  {
   "cell_type": "code",
   "execution_count": 68,
   "id": "146df91f",
   "metadata": {},
   "outputs": [
    {
     "data": {
      "text/plain": [
       "array([[11, 12, 13],\n",
       "       [14, 15, 16]])"
      ]
     },
     "execution_count": 68,
     "metadata": {},
     "output_type": "execute_result"
    }
   ],
   "source": [
    "s1 = np.array([[1,2,3],[4,5,6]])\n",
    "s1+10"
   ]
  },
  {
   "cell_type": "code",
   "execution_count": 69,
   "id": "0e1fb444",
   "metadata": {},
   "outputs": [
    {
     "data": {
      "text/plain": [
       "array([[10, 20, 30],\n",
       "       [40, 50, 60]])"
      ]
     },
     "execution_count": 69,
     "metadata": {},
     "output_type": "execute_result"
    }
   ],
   "source": [
    "s1*10"
   ]
  },
  {
   "cell_type": "code",
   "execution_count": 70,
   "id": "df62b6b3",
   "metadata": {},
   "outputs": [
    {
     "data": {
      "text/plain": [
       "array([[0.1, 0.2, 0.3],\n",
       "       [0.4, 0.5, 0.6]])"
      ]
     },
     "execution_count": 70,
     "metadata": {},
     "output_type": "execute_result"
    }
   ],
   "source": [
    "s1/10"
   ]
  },
  {
   "cell_type": "code",
   "execution_count": 71,
   "id": "fe67d0a8",
   "metadata": {},
   "outputs": [
    {
     "data": {
      "text/plain": [
       "array([[-9, -8, -7],\n",
       "       [-6, -5, -4]])"
      ]
     },
     "execution_count": 71,
     "metadata": {},
     "output_type": "execute_result"
    }
   ],
   "source": [
    "s1-10"
   ]
  },
  {
   "cell_type": "code",
   "execution_count": 72,
   "id": "e818c4a2",
   "metadata": {},
   "outputs": [
    {
     "data": {
      "text/plain": [
       "array([[ 0, 10, 20],\n",
       "       [30, 40, 50]])"
      ]
     },
     "execution_count": 72,
     "metadata": {},
     "output_type": "execute_result"
    }
   ],
   "source": [
    "s1*10-10"
   ]
  },
  {
   "cell_type": "markdown",
   "id": "a14e14c1",
   "metadata": {},
   "source": [
    "## 索引和切片的使用"
   ]
  },
  {
   "cell_type": "code",
   "execution_count": 73,
   "id": "bf5a2eb9",
   "metadata": {},
   "outputs": [
    {
     "data": {
      "text/plain": [
       "3"
      ]
     },
     "execution_count": 73,
     "metadata": {},
     "output_type": "execute_result"
    }
   ],
   "source": [
    "arr = np.array([0,1,2,3,4,5,6,7])\n",
    "arr[3]"
   ]
  },
  {
   "cell_type": "code",
   "execution_count": 74,
   "id": "91e3a7cf",
   "metadata": {},
   "outputs": [
    {
     "data": {
      "text/plain": [
       "array([0, 1, 2, 3, 4, 5])"
      ]
     },
     "execution_count": 74,
     "metadata": {},
     "output_type": "execute_result"
    }
   ],
   "source": [
    "arr[0:6] #左闭右开取不到最后一个"
   ]
  },
  {
   "cell_type": "code",
   "execution_count": 75,
   "id": "3739c21b",
   "metadata": {},
   "outputs": [
    {
     "data": {
      "text/plain": [
       "array([0, 2, 4, 6])"
      ]
     },
     "execution_count": 75,
     "metadata": {},
     "output_type": "execute_result"
    }
   ],
   "source": [
    "arr[0:8:2]"
   ]
  },
  {
   "cell_type": "code",
   "execution_count": 76,
   "id": "2d22606b",
   "metadata": {},
   "outputs": [
    {
     "data": {
      "text/plain": [
       "array([4, 5, 6])"
      ]
     },
     "execution_count": 76,
     "metadata": {},
     "output_type": "execute_result"
    }
   ],
   "source": [
    "arr2d = np.array([[1,2,3],[4,5,6],[7,8,9]])\n",
    "arr2d[1]"
   ]
  },
  {
   "cell_type": "code",
   "execution_count": 77,
   "id": "3b5228cb",
   "metadata": {},
   "outputs": [
    {
     "data": {
      "text/plain": [
       "5"
      ]
     },
     "execution_count": 77,
     "metadata": {},
     "output_type": "execute_result"
    }
   ],
   "source": [
    "arr2d[1,1]"
   ]
  },
  {
   "cell_type": "code",
   "execution_count": 78,
   "id": "2a02c7af",
   "metadata": {},
   "outputs": [
    {
     "data": {
      "text/plain": [
       "array([[1, 2, 3],\n",
       "       [4, 5, 6],\n",
       "       [7, 8, 9]])"
      ]
     },
     "execution_count": 78,
     "metadata": {},
     "output_type": "execute_result"
    }
   ],
   "source": [
    "arr2d"
   ]
  },
  {
   "cell_type": "code",
   "execution_count": 79,
   "id": "c0017f06",
   "metadata": {},
   "outputs": [
    {
     "data": {
      "text/plain": [
       "array([[1, 2, 3],\n",
       "       [4, 5, 6]])"
      ]
     },
     "execution_count": 79,
     "metadata": {},
     "output_type": "execute_result"
    }
   ],
   "source": [
    "arr2d[:2]  #前两行"
   ]
  },
  {
   "cell_type": "code",
   "execution_count": 80,
   "id": "e7a1c3b2",
   "metadata": {},
   "outputs": [
    {
     "data": {
      "text/plain": [
       "array([[1, 2],\n",
       "       [4, 5]])"
      ]
     },
     "execution_count": 80,
     "metadata": {},
     "output_type": "execute_result"
    }
   ],
   "source": [
    "arr2d[:2,:2] #前两行前两列相交位置的元素"
   ]
  },
  {
   "cell_type": "code",
   "execution_count": 81,
   "id": "b6088f43",
   "metadata": {},
   "outputs": [
    {
     "data": {
      "text/plain": [
       "array([1, 4, 7])"
      ]
     },
     "execution_count": 81,
     "metadata": {},
     "output_type": "execute_result"
    }
   ],
   "source": [
    "arr2d[:,0]#某一列元素"
   ]
  },
  {
   "cell_type": "code",
   "execution_count": 82,
   "id": "916c74f0",
   "metadata": {},
   "outputs": [
    {
     "data": {
      "text/plain": [
       "array([[1, 2, 3],\n",
       "       [4, 5, 6],\n",
       "       [7, 8, 9]])"
      ]
     },
     "execution_count": 82,
     "metadata": {},
     "output_type": "execute_result"
    }
   ],
   "source": [
    "arr2d[:]  #拷贝数组"
   ]
  },
  {
   "cell_type": "markdown",
   "id": "617af071",
   "metadata": {},
   "source": [
    "## 花式索引"
   ]
  },
  {
   "cell_type": "code",
   "execution_count": 83,
   "id": "aaf26e5a",
   "metadata": {},
   "outputs": [
    {
     "data": {
      "text/plain": [
       "array([[0., 1., 2., 3.],\n",
       "       [1., 2., 3., 4.],\n",
       "       [2., 3., 4., 5.],\n",
       "       [3., 4., 5., 6.]])"
      ]
     },
     "execution_count": 83,
     "metadata": {},
     "output_type": "execute_result"
    }
   ],
   "source": [
    "demo_arr = np.empty((4,4))\n",
    "for i in range (4):\n",
    "    demo_arr[i]=np.arange(i,i+4)\n",
    "demo_arr"
   ]
  },
  {
   "cell_type": "code",
   "execution_count": 84,
   "id": "1c0b846d",
   "metadata": {},
   "outputs": [
    {
     "data": {
      "text/plain": [
       "array([[0., 1., 2., 3.],\n",
       "       [2., 3., 4., 5.]])"
      ]
     },
     "execution_count": 84,
     "metadata": {},
     "output_type": "execute_result"
    }
   ],
   "source": [
    "demo_arr[[0,2]]"
   ]
  },
  {
   "cell_type": "code",
   "execution_count": 85,
   "id": "31345573",
   "metadata": {},
   "outputs": [
    {
     "data": {
      "text/plain": [
       "array([0., 2.])"
      ]
     },
     "execution_count": 85,
     "metadata": {},
     "output_type": "execute_result"
    }
   ],
   "source": [
    "demo_arr[[0,1],[0,1]]"
   ]
  },
  {
   "cell_type": "markdown",
   "id": "979ceb83",
   "metadata": {},
   "source": [
    "## 布尔型索引"
   ]
  },
  {
   "cell_type": "code",
   "execution_count": 86,
   "id": "0e4c3969",
   "metadata": {},
   "outputs": [],
   "source": [
    "student_name=np.array(['tom','jack','rose','lily'])\n",
    "student_score=np.array([[79,88,80],[89,90,82],[83,78,85],[73,76,80]])"
   ]
  },
  {
   "cell_type": "code",
   "execution_count": 87,
   "id": "1cc8fecb",
   "metadata": {},
   "outputs": [
    {
     "data": {
      "text/plain": [
       "array([False,  True, False, False])"
      ]
     },
     "execution_count": 87,
     "metadata": {},
     "output_type": "execute_result"
    }
   ],
   "source": [
    "student_name=='jack'"
   ]
  },
  {
   "cell_type": "code",
   "execution_count": 88,
   "id": "b7131c71",
   "metadata": {},
   "outputs": [
    {
     "data": {
      "text/plain": [
       "array([[89, 90, 82]])"
      ]
     },
     "execution_count": 88,
     "metadata": {},
     "output_type": "execute_result"
    }
   ],
   "source": [
    "student_score[student_name=='jack'] #返回的是里面表达式中为true位置上的索引在student_score 上对应的值"
   ]
  },
  {
   "cell_type": "code",
   "execution_count": 89,
   "id": "65086b07",
   "metadata": {},
   "outputs": [
    {
     "data": {
      "text/plain": [
       "array([[89]])"
      ]
     },
     "execution_count": 89,
     "metadata": {},
     "output_type": "execute_result"
    }
   ],
   "source": [
    "student_score[student_name=='jack',:1]#布尔型索引与切片的混合使用"
   ]
  },
  {
   "cell_type": "markdown",
   "id": "f47cfc47",
   "metadata": {},
   "source": [
    "## 数组的转置"
   ]
  },
  {
   "cell_type": "code",
   "execution_count": 90,
   "id": "4c002987",
   "metadata": {},
   "outputs": [
    {
     "data": {
      "text/plain": [
       "array([[ 0,  1,  2,  3],\n",
       "       [ 4,  5,  6,  7],\n",
       "       [ 8,  9, 10, 11]])"
      ]
     },
     "execution_count": 90,
     "metadata": {},
     "output_type": "execute_result"
    }
   ],
   "source": [
    "arr_a = np.arange(12).reshape(3,4)\n",
    "arr_a"
   ]
  },
  {
   "cell_type": "code",
   "execution_count": 91,
   "id": "04bf391c",
   "metadata": {},
   "outputs": [
    {
     "data": {
      "text/plain": [
       "array([[ 0,  4,  8],\n",
       "       [ 1,  5,  9],\n",
       "       [ 2,  6, 10],\n",
       "       [ 3,  7, 11]])"
      ]
     },
     "execution_count": 91,
     "metadata": {},
     "output_type": "execute_result"
    }
   ],
   "source": [
    "arr_a.T"
   ]
  },
  {
   "cell_type": "code",
   "execution_count": 92,
   "id": "191a78a9",
   "metadata": {},
   "outputs": [
    {
     "data": {
      "text/plain": [
       "array([[ 0,  1,  2,  3],\n",
       "       [ 4,  5,  6,  7],\n",
       "       [ 8,  9, 10, 11]])"
      ]
     },
     "execution_count": 92,
     "metadata": {},
     "output_type": "execute_result"
    }
   ],
   "source": [
    "arr_a"
   ]
  },
  {
   "cell_type": "code",
   "execution_count": 93,
   "id": "ebe19f63",
   "metadata": {},
   "outputs": [
    {
     "data": {
      "text/plain": [
       "array([[[ 0,  1,  2,  3],\n",
       "        [ 4,  5,  6,  7]],\n",
       "\n",
       "       [[ 8,  9, 10, 11],\n",
       "        [12, 13, 14, 15]]])"
      ]
     },
     "execution_count": 93,
     "metadata": {},
     "output_type": "execute_result"
    }
   ],
   "source": [
    "arr_b = np.arange(16).reshape((2,2,4))\n",
    "arr_b"
   ]
  },
  {
   "cell_type": "code",
   "execution_count": 94,
   "id": "68a501cd",
   "metadata": {},
   "outputs": [
    {
     "data": {
      "text/plain": [
       "array([[[ 0,  8],\n",
       "        [ 1,  9],\n",
       "        [ 2, 10],\n",
       "        [ 3, 11]],\n",
       "\n",
       "       [[ 4, 12],\n",
       "        [ 5, 13],\n",
       "        [ 6, 14],\n",
       "        [ 7, 15]]])"
      ]
     },
     "execution_count": 94,
     "metadata": {},
     "output_type": "execute_result"
    }
   ],
   "source": [
    "arr_b.transpose(1,2,0)"
   ]
  },
  {
   "cell_type": "code",
   "execution_count": 95,
   "id": "5e2c3f16",
   "metadata": {},
   "outputs": [
    {
     "data": {
      "text/plain": [
       "array([[[ 0,  8],\n",
       "        [ 4, 12]],\n",
       "\n",
       "       [[ 1,  9],\n",
       "        [ 5, 13]],\n",
       "\n",
       "       [[ 2, 10],\n",
       "        [ 6, 14]],\n",
       "\n",
       "       [[ 3, 11],\n",
       "        [ 7, 15]]])"
      ]
     },
     "execution_count": 95,
     "metadata": {},
     "output_type": "execute_result"
    }
   ],
   "source": [
    "arr_b.transpose()  #等价于transpose(2,1,0)"
   ]
  },
  {
   "cell_type": "markdown",
   "id": "060f7e7b",
   "metadata": {},
   "source": [
    "## numpy通用函数"
   ]
  },
  {
   "cell_type": "code",
   "execution_count": 96,
   "id": "18af480d",
   "metadata": {},
   "outputs": [
    {
     "data": {
      "text/plain": [
       "array([1.        , 1.41421356, 1.73205081])"
      ]
     },
     "execution_count": 96,
     "metadata": {},
     "output_type": "execute_result"
    }
   ],
   "source": [
    "arr_1 = np.array([1,2,3])\n",
    "np.sqrt(arr_1)"
   ]
  },
  {
   "cell_type": "code",
   "execution_count": 97,
   "id": "25e336c6",
   "metadata": {},
   "outputs": [
    {
     "data": {
      "text/plain": [
       "array([1, 4, 9])"
      ]
     },
     "execution_count": 97,
     "metadata": {},
     "output_type": "execute_result"
    }
   ],
   "source": [
    "np.square(arr_1)"
   ]
  },
  {
   "cell_type": "code",
   "execution_count": 98,
   "id": "b347d090",
   "metadata": {},
   "outputs": [
    {
     "data": {
      "text/plain": [
       "array([23, 19, 17, 23])"
      ]
     },
     "execution_count": 98,
     "metadata": {},
     "output_type": "execute_result"
    }
   ],
   "source": [
    "x=np.array([12,9,13,15])\n",
    "y=np.array([11,10,4,8])\n",
    "np.add(x,y)"
   ]
  },
  {
   "cell_type": "code",
   "execution_count": 100,
   "id": "0fd7291b",
   "metadata": {},
   "outputs": [
    {
     "data": {
      "text/plain": [
       "array([132,  90,  52, 120])"
      ]
     },
     "execution_count": 100,
     "metadata": {},
     "output_type": "execute_result"
    }
   ],
   "source": [
    "np.multiply(x,y)"
   ]
  },
  {
   "cell_type": "code",
   "execution_count": 101,
   "id": "f5dbda68",
   "metadata": {},
   "outputs": [
    {
     "data": {
      "text/plain": [
       "array([12, 10, 13, 15])"
      ]
     },
     "execution_count": 101,
     "metadata": {},
     "output_type": "execute_result"
    }
   ],
   "source": [
    "np.maximum(x,y)"
   ]
  },
  {
   "cell_type": "code",
   "execution_count": 102,
   "id": "ced42478",
   "metadata": {},
   "outputs": [
    {
     "data": {
      "text/plain": [
       "array([ True, False,  True,  True])"
      ]
     },
     "execution_count": 102,
     "metadata": {},
     "output_type": "execute_result"
    }
   ],
   "source": [
    "np.greater(x,y)"
   ]
  },
  {
   "cell_type": "markdown",
   "id": "ef96d7b5",
   "metadata": {},
   "source": [
    "## 将条件逻辑转化为数组运算"
   ]
  },
  {
   "cell_type": "code",
   "execution_count": 103,
   "id": "71f42099",
   "metadata": {},
   "outputs": [
    {
     "data": {
      "text/plain": [
       "array([1, 6, 7])"
      ]
     },
     "execution_count": 103,
     "metadata": {},
     "output_type": "execute_result"
    }
   ],
   "source": [
    "arr_x = np.array([1,5,7])\n",
    "arr_y = np.array([2,6,8])\n",
    "arr_con=np.array([True,False,True])\n",
    "result = np.where(arr_con,arr_x,arr_y)\n",
    "result"
   ]
  },
  {
   "cell_type": "markdown",
   "id": "d2bcd8c4",
   "metadata": {},
   "source": [
    "## 数组的统计运算"
   ]
  },
  {
   "cell_type": "code",
   "execution_count": 107,
   "id": "115a5964",
   "metadata": {},
   "outputs": [],
   "source": [
    "arrnum=np.arange(10)"
   ]
  },
  {
   "cell_type": "code",
   "execution_count": 106,
   "id": "f79f7fbe",
   "metadata": {},
   "outputs": [
    {
     "data": {
      "text/plain": [
       "45"
      ]
     },
     "execution_count": 106,
     "metadata": {},
     "output_type": "execute_result"
    }
   ],
   "source": [
    "arrnum.sum()"
   ]
  },
  {
   "cell_type": "code",
   "execution_count": 108,
   "id": "45a4cdca",
   "metadata": {},
   "outputs": [
    {
     "data": {
      "text/plain": [
       "array([ 0,  1,  3,  6, 10, 15, 21, 28, 36, 45])"
      ]
     },
     "execution_count": 108,
     "metadata": {},
     "output_type": "execute_result"
    }
   ],
   "source": [
    "arrnum.cumsum()#计算每个元素的累计和"
   ]
  },
  {
   "cell_type": "code",
   "execution_count": 109,
   "id": "c0412684",
   "metadata": {},
   "outputs": [
    {
     "data": {
      "text/plain": [
       "4.5"
      ]
     },
     "execution_count": 109,
     "metadata": {},
     "output_type": "execute_result"
    }
   ],
   "source": [
    "arrnum.mean()"
   ]
  },
  {
   "cell_type": "code",
   "execution_count": 110,
   "id": "7f044862",
   "metadata": {},
   "outputs": [
    {
     "data": {
      "text/plain": [
       "0"
      ]
     },
     "execution_count": 110,
     "metadata": {},
     "output_type": "execute_result"
    }
   ],
   "source": [
    "arrnum.min()"
   ]
  },
  {
   "cell_type": "code",
   "execution_count": 111,
   "id": "6119fe62",
   "metadata": {},
   "outputs": [
    {
     "data": {
      "text/plain": [
       "9"
      ]
     },
     "execution_count": 111,
     "metadata": {},
     "output_type": "execute_result"
    }
   ],
   "source": [
    "arrnum.max()"
   ]
  },
  {
   "cell_type": "code",
   "execution_count": 112,
   "id": "96b73a5d",
   "metadata": {},
   "outputs": [
    {
     "data": {
      "text/plain": [
       "9"
      ]
     },
     "execution_count": 112,
     "metadata": {},
     "output_type": "execute_result"
    }
   ],
   "source": [
    "arrnum.argmax()"
   ]
  },
  {
   "cell_type": "code",
   "execution_count": 113,
   "id": "7c3ee107",
   "metadata": {},
   "outputs": [
    {
     "data": {
      "text/plain": [
       "array([0, 0, 0, 0, 0, 0, 0, 0])"
      ]
     },
     "execution_count": 113,
     "metadata": {},
     "output_type": "execute_result"
    }
   ],
   "source": [
    "arr.cumprod()#计算所有元素的累积"
   ]
  },
  {
   "cell_type": "markdown",
   "id": "124e04fd",
   "metadata": {},
   "source": [
    "## 数组排序"
   ]
  },
  {
   "cell_type": "code",
   "execution_count": 114,
   "id": "854e3f83",
   "metadata": {},
   "outputs": [],
   "source": [
    "arr_sort=np.array([[6,2,7],[3,6,2],[4,3,2]])\n",
    "arr_sort.sort() "
   ]
  },
  {
   "cell_type": "code",
   "execution_count": 115,
   "id": "8c8cad4d",
   "metadata": {},
   "outputs": [
    {
     "data": {
      "text/plain": [
       "array([[2, 6, 7],\n",
       "       [2, 3, 6],\n",
       "       [2, 3, 4]])"
      ]
     },
     "execution_count": 115,
     "metadata": {},
     "output_type": "execute_result"
    }
   ],
   "source": [
    "arr_sort"
   ]
  },
  {
   "cell_type": "code",
   "execution_count": 116,
   "id": "9e882775",
   "metadata": {},
   "outputs": [],
   "source": [
    "arr_sort2=np.array([[6,2,7],[3,6,2],[4,3,2]])\n",
    "arr_sort2.sort(0)"
   ]
  },
  {
   "cell_type": "code",
   "execution_count": 117,
   "id": "c073577e",
   "metadata": {},
   "outputs": [
    {
     "data": {
      "text/plain": [
       "array([[3, 2, 2],\n",
       "       [4, 3, 2],\n",
       "       [6, 6, 7]])"
      ]
     },
     "execution_count": 117,
     "metadata": {},
     "output_type": "execute_result"
    }
   ],
   "source": [
    "arr_sort2"
   ]
  },
  {
   "cell_type": "markdown",
   "id": "feb5d6d3",
   "metadata": {},
   "source": [
    "## 检索数组元素"
   ]
  },
  {
   "cell_type": "code",
   "execution_count": 119,
   "id": "9e1350d0",
   "metadata": {},
   "outputs": [
    {
     "data": {
      "text/plain": [
       "True"
      ]
     },
     "execution_count": 119,
     "metadata": {},
     "output_type": "execute_result"
    }
   ],
   "source": [
    "arr_search=np.array([[1,-2,-7],[-3,6,2],[-4,3,2]])\n",
    "np.any(arr_search>0)"
   ]
  },
  {
   "cell_type": "code",
   "execution_count": 120,
   "id": "c3093741",
   "metadata": {},
   "outputs": [
    {
     "data": {
      "text/plain": [
       "False"
      ]
     },
     "execution_count": 120,
     "metadata": {},
     "output_type": "execute_result"
    }
   ],
   "source": [
    "np.all(arr_search>0)"
   ]
  },
  {
   "cell_type": "code",
   "execution_count": 121,
   "id": "ec847b81",
   "metadata": {},
   "outputs": [
    {
     "data": {
      "text/plain": [
       "array([-6,  7, -3])"
      ]
     },
     "execution_count": 121,
     "metadata": {},
     "output_type": "execute_result"
    }
   ],
   "source": [
    "arr_search.sum(0)"
   ]
  },
  {
   "cell_type": "markdown",
   "id": "88169999",
   "metadata": {},
   "source": [
    "## 唯一化及其他逻辑"
   ]
  },
  {
   "cell_type": "code",
   "execution_count": 123,
   "id": "c31f479c",
   "metadata": {},
   "outputs": [
    {
     "data": {
      "text/plain": [
       "array([ 8, 11, 12, 23, 34])"
      ]
     },
     "execution_count": 123,
     "metadata": {},
     "output_type": "execute_result"
    }
   ],
   "source": [
    "arr_only=np.array([12,11,34,23,12,8,11])\n",
    "np.unique(arr_only)"
   ]
  },
  {
   "cell_type": "code",
   "execution_count": 126,
   "id": "63fc2004",
   "metadata": {},
   "outputs": [
    {
     "data": {
      "text/plain": [
       "array([ True,  True, False, False,  True, False,  True])"
      ]
     },
     "execution_count": 126,
     "metadata": {},
     "output_type": "execute_result"
    }
   ],
   "source": [
    "np.in1d(arr_only,[11,12])"
   ]
  },
  {
   "cell_type": "code",
   "execution_count": null,
   "id": "ad728083",
   "metadata": {},
   "outputs": [],
   "source": []
  },
  {
   "cell_type": "code",
   "execution_count": null,
   "id": "c0c921ae",
   "metadata": {},
   "outputs": [],
   "source": []
  }
 ],
 "metadata": {
  "kernelspec": {
   "display_name": "Python 3 (ipykernel)",
   "language": "python",
   "name": "python3"
  },
  "language_info": {
   "codemirror_mode": {
    "name": "ipython",
    "version": 3
   },
   "file_extension": ".py",
   "mimetype": "text/x-python",
   "name": "python",
   "nbconvert_exporter": "python",
   "pygments_lexer": "ipython3",
   "version": "3.11.5"
  }
 },
 "nbformat": 4,
 "nbformat_minor": 5
}
