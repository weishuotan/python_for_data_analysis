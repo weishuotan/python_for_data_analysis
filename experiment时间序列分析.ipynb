{
 "cells": [
  {
   "cell_type": "code",
   "execution_count": 1,
   "id": "39cb27db",
   "metadata": {},
   "outputs": [],
   "source": [
    "import pandas as pd\n",
    "import numpy as np\n",
    "from datetime import datetime"
   ]
  },
  {
   "cell_type": "code",
   "execution_count": 5,
   "id": "eab1b4a7",
   "metadata": {},
   "outputs": [
    {
     "data": {
      "text/plain": [
       "Timestamp('2024-06-10 00:00:00')"
      ]
     },
     "execution_count": 5,
     "metadata": {},
     "output_type": "execute_result"
    }
   ],
   "source": [
    "pd.to_datetime('20240610') "
   ]
  },
  {
   "cell_type": "code",
   "execution_count": 8,
   "id": "ee4e8e41",
   "metadata": {},
   "outputs": [
    {
     "data": {
      "text/plain": [
       "Timestamp('2024-06-10 00:00:00')"
      ]
     },
     "execution_count": 8,
     "metadata": {},
     "output_type": "execute_result"
    }
   ],
   "source": [
    "date_index = pd.to_datetime(['20240610', '20240611', '20240612'])\n",
    "date_index[0]"
   ]
  },
  {
   "cell_type": "code",
   "execution_count": 9,
   "id": "5a7d6be9",
   "metadata": {},
   "outputs": [
    {
     "data": {
      "text/plain": [
       "2024-06-10    10\n",
       "2024-06-11    11\n",
       "2024-06-12    12\n",
       "dtype: int64"
      ]
     },
     "execution_count": 9,
     "metadata": {},
     "output_type": "execute_result"
    }
   ],
   "source": [
    "date_ser = pd.Series([10, 11, 12], index=date_index)\n",
    "date_ser"
   ]
  },
  {
   "cell_type": "code",
   "execution_count": 11,
   "id": "5d4b7c6f",
   "metadata": {},
   "outputs": [
    {
     "data": {
      "text/html": [
       "<div>\n",
       "<style scoped>\n",
       "    .dataframe tbody tr th:only-of-type {\n",
       "        vertical-align: middle;\n",
       "    }\n",
       "\n",
       "    .dataframe tbody tr th {\n",
       "        vertical-align: top;\n",
       "    }\n",
       "\n",
       "    .dataframe thead th {\n",
       "        text-align: right;\n",
       "    }\n",
       "</style>\n",
       "<table border=\"1\" class=\"dataframe\">\n",
       "  <thead>\n",
       "    <tr style=\"text-align: right;\">\n",
       "      <th></th>\n",
       "      <th>0</th>\n",
       "      <th>1</th>\n",
       "      <th>2</th>\n",
       "    </tr>\n",
       "  </thead>\n",
       "  <tbody>\n",
       "    <tr>\n",
       "      <th>2024-06-10</th>\n",
       "      <td>11</td>\n",
       "      <td>22</td>\n",
       "      <td>33</td>\n",
       "    </tr>\n",
       "    <tr>\n",
       "      <th>2024-06-11</th>\n",
       "      <td>44</td>\n",
       "      <td>55</td>\n",
       "      <td>66</td>\n",
       "    </tr>\n",
       "    <tr>\n",
       "      <th>2024-06-12</th>\n",
       "      <td>77</td>\n",
       "      <td>88</td>\n",
       "      <td>99</td>\n",
       "    </tr>\n",
       "  </tbody>\n",
       "</table>\n",
       "</div>"
      ],
      "text/plain": [
       "             0   1   2\n",
       "2024-06-10  11  22  33\n",
       "2024-06-11  44  55  66\n",
       "2024-06-12  77  88  99"
      ]
     },
     "execution_count": 11,
     "metadata": {},
     "output_type": "execute_result"
    }
   ],
   "source": [
    "data_demo = [[11, 22, 33], [44, 55, 66], \n",
    "             [77, 88, 99]]\n",
    "date_list = pd.to_datetime(['20240610', '20240611', '20240612'])\n",
    "time_df = pd.DataFrame(data_demo, index=date_list)\n",
    "time_df"
   ]
  },
  {
   "cell_type": "code",
   "execution_count": 10,
   "id": "29c190b7",
   "metadata": {},
   "outputs": [
    {
     "data": {
      "text/plain": [
       "2024-06-10    0\n",
       "2024-06-11    1\n",
       "2024-06-12    2\n",
       "dtype: int32"
      ]
     },
     "execution_count": 10,
     "metadata": {},
     "output_type": "execute_result"
    }
   ],
   "source": [
    "datetime_list = pd.to_datetime(['20240610', '20240611', '20240612'])\n",
    "time_se = pd.Series(np.arange(3), index=datetime_list)\n",
    "time_se"
   ]
  },
  {
   "cell_type": "code",
   "execution_count": 12,
   "id": "aefb5daf",
   "metadata": {},
   "outputs": [
    {
     "data": {
      "text/plain": [
       "2"
      ]
     },
     "execution_count": 12,
     "metadata": {},
     "output_type": "execute_result"
    }
   ],
   "source": [
    "time_se[2]"
   ]
  },
  {
   "cell_type": "code",
   "execution_count": 14,
   "id": "2aa6ecc6",
   "metadata": {},
   "outputs": [
    {
     "data": {
      "text/plain": [
       "1"
      ]
     },
     "execution_count": 14,
     "metadata": {},
     "output_type": "execute_result"
    }
   ],
   "source": [
    "date_time = datetime(2024, 6, 11)\n",
    "time_se[date_time]"
   ]
  },
  {
   "cell_type": "code",
   "execution_count": 16,
   "id": "0aff97f4",
   "metadata": {},
   "outputs": [
    {
     "data": {
      "text/plain": [
       "1"
      ]
     },
     "execution_count": 16,
     "metadata": {},
     "output_type": "execute_result"
    }
   ],
   "source": [
    "time_se['20240611']"
   ]
  },
  {
   "cell_type": "code",
   "execution_count": 18,
   "id": "146d0e95",
   "metadata": {},
   "outputs": [
    {
     "data": {
      "text/plain": [
       "1"
      ]
     },
     "execution_count": 18,
     "metadata": {},
     "output_type": "execute_result"
    }
   ],
   "source": [
    "time_se['6/11/2024']"
   ]
  },
  {
   "cell_type": "code",
   "execution_count": 19,
   "id": "4e707dda",
   "metadata": {},
   "outputs": [
    {
     "data": {
      "text/plain": [
       "2024-06-10    0\n",
       "2024-06-11    1\n",
       "2024-06-12    2\n",
       "dtype: int32"
      ]
     },
     "execution_count": 19,
     "metadata": {},
     "output_type": "execute_result"
    }
   ],
   "source": [
    "time_se['2024'] "
   ]
  },
  {
   "cell_type": "code",
   "execution_count": 25,
   "id": "5c843ac7",
   "metadata": {},
   "outputs": [
    {
     "data": {
      "text/plain": [
       "2024-06-11    1\n",
       "2024-06-12    2\n",
       "dtype: int32"
      ]
     },
     "execution_count": 25,
     "metadata": {},
     "output_type": "execute_result"
    }
   ],
   "source": [
    "time_se.truncate(before='2024-6-11')"
   ]
  },
  {
   "cell_type": "code",
   "execution_count": 27,
   "id": "c435bc61",
   "metadata": {},
   "outputs": [
    {
     "data": {
      "text/plain": [
       "2024-06-10    0\n",
       "2024-06-11    1\n",
       "dtype: int32"
      ]
     },
     "execution_count": 27,
     "metadata": {},
     "output_type": "execute_result"
    }
   ],
   "source": [
    "time_se.truncate(after='2024-6-11')"
   ]
  },
  {
   "cell_type": "code",
   "execution_count": 29,
   "id": "0d5977be",
   "metadata": {},
   "outputs": [
    {
     "data": {
      "text/plain": [
       "DatetimeIndex(['2024-06-10', '2024-06-11', '2024-06-12', '2024-06-13',\n",
       "               '2024-06-14', '2024-06-15', '2024-06-16', '2024-06-17',\n",
       "               '2024-06-18', '2024-06-19', '2024-06-20'],\n",
       "              dtype='datetime64[ns]', freq='D')"
      ]
     },
     "execution_count": 29,
     "metadata": {},
     "output_type": "execute_result"
    }
   ],
   "source": [
    "pd.date_range('2024/06/10', '2024/06/20')"
   ]
  },
  {
   "cell_type": "code",
   "execution_count": 30,
   "id": "706d640a",
   "metadata": {},
   "outputs": [
    {
     "data": {
      "text/plain": [
       "DatetimeIndex(['2024-06-10', '2024-06-11', '2024-06-12', '2024-06-13',\n",
       "               '2024-06-14'],\n",
       "              dtype='datetime64[ns]', freq='D')"
      ]
     },
     "execution_count": 30,
     "metadata": {},
     "output_type": "execute_result"
    }
   ],
   "source": [
    "pd.date_range(start='2024/06/10', periods=5)"
   ]
  },
  {
   "cell_type": "code",
   "execution_count": 31,
   "id": "751c778d",
   "metadata": {},
   "outputs": [
    {
     "data": {
      "text/plain": [
       "DatetimeIndex(['2024-06-06', '2024-06-07', '2024-06-08', '2024-06-09',\n",
       "               '2024-06-10'],\n",
       "              dtype='datetime64[ns]', freq='D')"
      ]
     },
     "execution_count": 31,
     "metadata": {},
     "output_type": "execute_result"
    }
   ],
   "source": [
    "pd.date_range(end='2024/06/10', periods=5)"
   ]
  },
  {
   "cell_type": "code",
   "execution_count": 32,
   "id": "7c3e3939",
   "metadata": {},
   "outputs": [
    {
     "data": {
      "text/plain": [
       "DatetimeIndex(['2024-06-16', '2024-06-23', '2024-06-30', '2024-07-07',\n",
       "               '2024-07-14'],\n",
       "              dtype='datetime64[ns]', freq='W-SUN')"
      ]
     },
     "execution_count": 32,
     "metadata": {},
     "output_type": "execute_result"
    }
   ],
   "source": [
    "dates_index = pd.date_range('2024-06-10',         \n",
    "                            periods=5,            \n",
    "                            freq='W-SUN')         \n",
    "dates_index"
   ]
  },
  {
   "cell_type": "code",
   "execution_count": 34,
   "id": "7fc78ab6",
   "metadata": {},
   "outputs": [
    {
     "data": {
      "text/plain": [
       "DatetimeIndex(['2024-06-10 12:13:30+08:00', '2024-06-11 12:13:30+08:00',\n",
       "               '2024-06-12 12:13:30+08:00', '2024-06-13 12:13:30+08:00',\n",
       "               '2024-06-14 12:13:30+08:00'],\n",
       "              dtype='datetime64[ns, Asia/Hong_Kong]', freq='D')"
      ]
     },
     "execution_count": 34,
     "metadata": {},
     "output_type": "execute_result"
    }
   ],
   "source": [
    "pd.date_range(start='2024/6/10 12:13:30', periods=5, \n",
    "              tz='Asia/Hong_Kong')"
   ]
  },
  {
   "cell_type": "code",
   "execution_count": 33,
   "id": "9693512c",
   "metadata": {},
   "outputs": [
    {
     "data": {
      "text/plain": [
       "DatetimeIndex(['2024-06-10 00:00:00+08:00', '2024-06-11 00:00:00+08:00',\n",
       "               '2024-06-12 00:00:00+08:00', '2024-06-13 00:00:00+08:00',\n",
       "               '2024-06-14 00:00:00+08:00'],\n",
       "              dtype='datetime64[ns, Asia/Hong_Kong]', freq='D')"
      ]
     },
     "execution_count": 33,
     "metadata": {},
     "output_type": "execute_result"
    }
   ],
   "source": [
    "pd.date_range(start='2024/6/10 12:13:30', periods=5,  normalize=True,\n",
    "              tz='Asia/Hong_Kong')"
   ]
  },
  {
   "cell_type": "code",
   "execution_count": 35,
   "id": "2ad11c7d",
   "metadata": {},
   "outputs": [
    {
     "data": {
      "text/plain": [
       "<DateOffset: days=5, months=4>"
      ]
     },
     "execution_count": 35,
     "metadata": {},
     "output_type": "execute_result"
    }
   ],
   "source": [
    "from pandas.tseries.offsets import *\n",
    "DateOffset(months=4, days=5)"
   ]
  },
  {
   "cell_type": "code",
   "execution_count": 36,
   "id": "dfac2c56",
   "metadata": {},
   "outputs": [
    {
     "data": {
      "text/plain": [
       "Timedelta('14 days 10:00:00')"
      ]
     },
     "execution_count": 36,
     "metadata": {},
     "output_type": "execute_result"
    }
   ],
   "source": [
    "Week(2) + Hour(10)"
   ]
  },
  {
   "cell_type": "code",
   "execution_count": 39,
   "id": "9cb6e673",
   "metadata": {},
   "outputs": [
    {
     "data": {
      "text/plain": [
       "DatetimeIndex(['2024-06-10 00:00:00', '2024-06-24 10:00:00',\n",
       "               '2024-07-08 20:00:00', '2024-07-23 06:00:00'],\n",
       "              dtype='datetime64[ns]', freq='346H')"
      ]
     },
     "execution_count": 39,
     "metadata": {},
     "output_type": "execute_result"
    }
   ],
   "source": [
    "date_offset  = Week(2) + Hour(10)\n",
    "pd.date_range('2024/6/10', '2024/7/31', freq=date_offset)"
   ]
  },
  {
   "cell_type": "code",
   "execution_count": 41,
   "id": "f6c4935e",
   "metadata": {},
   "outputs": [
    {
     "data": {
      "text/plain": [
       "2024-06-10    NaN\n",
       "2024-06-11    0.0\n",
       "2024-06-12    1.0\n",
       "dtype: float64"
      ]
     },
     "execution_count": 41,
     "metadata": {},
     "output_type": "execute_result"
    }
   ],
   "source": [
    "datetime_list = pd.to_datetime(['20240610', '20240611', '20240612'])\n",
    "time_se = pd.Series(np.arange(3), index=datetime_list)\n",
    "time_se.shift(1)"
   ]
  },
  {
   "cell_type": "code",
   "execution_count": 44,
   "id": "ba775099",
   "metadata": {},
   "outputs": [
    {
     "data": {
      "text/plain": [
       "Period('2024-06', 'M')"
      ]
     },
     "execution_count": 44,
     "metadata": {},
     "output_type": "execute_result"
    }
   ],
   "source": [
    "period = pd.Period('2024/6')\n",
    "period"
   ]
  },
  {
   "cell_type": "code",
   "execution_count": 45,
   "id": "91b09a64",
   "metadata": {},
   "outputs": [
    {
     "data": {
      "text/plain": [
       "Period('2024-07', 'M')"
      ]
     },
     "execution_count": 45,
     "metadata": {},
     "output_type": "execute_result"
    }
   ],
   "source": [
    "period + 1"
   ]
  },
  {
   "cell_type": "code",
   "execution_count": 46,
   "id": "97a36967",
   "metadata": {},
   "outputs": [
    {
     "data": {
      "text/plain": [
       "<53 * MonthEnds>"
      ]
     },
     "execution_count": 46,
     "metadata": {},
     "output_type": "execute_result"
    }
   ],
   "source": [
    "other_period = pd.Period(202001, freq='M' )\n",
    "period - other_period"
   ]
  },
  {
   "cell_type": "code",
   "execution_count": 47,
   "id": "2c64fd68",
   "metadata": {},
   "outputs": [
    {
     "data": {
      "text/plain": [
       "PeriodIndex(['2012-01', '2012-02', '2012-03', '2012-04', '2012-05'], dtype='period[M]')"
      ]
     },
     "execution_count": 47,
     "metadata": {},
     "output_type": "execute_result"
    }
   ],
   "source": [
    "period_index = pd.period_range('2012.1.8', '2012.5.31', freq='M')\n",
    "period_index"
   ]
  },
  {
   "cell_type": "code",
   "execution_count": 48,
   "id": "d916666e",
   "metadata": {},
   "outputs": [
    {
     "data": {
      "text/plain": [
       "Period('2017-01', 'M')"
      ]
     },
     "execution_count": 48,
     "metadata": {},
     "output_type": "execute_result"
    }
   ],
   "source": [
    "period = pd.Period('2017', freq='A-DEC')\n",
    "period.asfreq('M', how='start')"
   ]
  },
  {
   "cell_type": "code",
   "execution_count": 49,
   "id": "33aab7cd",
   "metadata": {},
   "outputs": [
    {
     "data": {
      "text/plain": [
       "Period('2017-12', 'M')"
      ]
     },
     "execution_count": 49,
     "metadata": {},
     "output_type": "execute_result"
    }
   ],
   "source": [
    "period.asfreq('M', how='end')"
   ]
  },
  {
   "cell_type": "code",
   "execution_count": 51,
   "id": "cccec01d",
   "metadata": {},
   "outputs": [
    {
     "data": {
      "text/plain": [
       "2017-07-10     0.5\n",
       "2017-07-17     5.0\n",
       "2017-07-24    12.0\n",
       "2017-07-31    19.0\n",
       "2017-08-07    26.0\n",
       "Freq: W-MON, dtype: float64"
      ]
     },
     "execution_count": 51,
     "metadata": {},
     "output_type": "execute_result"
    }
   ],
   "source": [
    "date_index = pd.date_range('2017.7.8', periods=30)\n",
    "time_ser = pd.Series(np.arange(30), index=date_index)\n",
    "time_ser.resample('W-MON', closed='left').mean()"
   ]
  },
  {
   "cell_type": "code",
   "execution_count": 52,
   "id": "48afff86",
   "metadata": {},
   "outputs": [
    {
     "data": {
      "text/html": [
       "<div>\n",
       "<style scoped>\n",
       "    .dataframe tbody tr th:only-of-type {\n",
       "        vertical-align: middle;\n",
       "    }\n",
       "\n",
       "    .dataframe tbody tr th {\n",
       "        vertical-align: top;\n",
       "    }\n",
       "\n",
       "    .dataframe thead th {\n",
       "        text-align: right;\n",
       "    }\n",
       "</style>\n",
       "<table border=\"1\" class=\"dataframe\">\n",
       "  <thead>\n",
       "    <tr style=\"text-align: right;\">\n",
       "      <th></th>\n",
       "      <th>open</th>\n",
       "      <th>high</th>\n",
       "      <th>low</th>\n",
       "      <th>close</th>\n",
       "    </tr>\n",
       "  </thead>\n",
       "  <tbody>\n",
       "    <tr>\n",
       "      <th>2018-06-01</th>\n",
       "      <td>0.763406</td>\n",
       "      <td>0.975184</td>\n",
       "      <td>0.157883</td>\n",
       "      <td>0.157883</td>\n",
       "    </tr>\n",
       "    <tr>\n",
       "      <th>2018-06-08</th>\n",
       "      <td>0.270669</td>\n",
       "      <td>0.952400</td>\n",
       "      <td>0.046476</td>\n",
       "      <td>0.952400</td>\n",
       "    </tr>\n",
       "    <tr>\n",
       "      <th>2018-06-15</th>\n",
       "      <td>0.051796</td>\n",
       "      <td>0.852874</td>\n",
       "      <td>0.051796</td>\n",
       "      <td>0.462475</td>\n",
       "    </tr>\n",
       "    <tr>\n",
       "      <th>2018-06-22</th>\n",
       "      <td>0.598929</td>\n",
       "      <td>0.890797</td>\n",
       "      <td>0.085355</td>\n",
       "      <td>0.091275</td>\n",
       "    </tr>\n",
       "    <tr>\n",
       "      <th>2018-06-29</th>\n",
       "      <td>0.700712</td>\n",
       "      <td>0.793460</td>\n",
       "      <td>0.700712</td>\n",
       "      <td>0.793460</td>\n",
       "    </tr>\n",
       "  </tbody>\n",
       "</table>\n",
       "</div>"
      ],
      "text/plain": [
       "                open      high       low     close\n",
       "2018-06-01  0.763406  0.975184  0.157883  0.157883\n",
       "2018-06-08  0.270669  0.952400  0.046476  0.952400\n",
       "2018-06-15  0.051796  0.852874  0.051796  0.462475\n",
       "2018-06-22  0.598929  0.890797  0.085355  0.091275\n",
       "2018-06-29  0.700712  0.793460  0.700712  0.793460"
      ]
     },
     "execution_count": 52,
     "metadata": {},
     "output_type": "execute_result"
    }
   ],
   "source": [
    "date_index = pd.date_range('2018/06/01', periods=30)\n",
    "shares_data = np.random.rand(30)\n",
    "time_ser = pd.Series(shares_data, index=date_index)\n",
    "time_ser.resample('7D').ohlc()"
   ]
  },
  {
   "cell_type": "code",
   "execution_count": 53,
   "id": "5b7c49bb",
   "metadata": {},
   "outputs": [
    {
     "data": {
      "text/html": [
       "<div>\n",
       "<style scoped>\n",
       "    .dataframe tbody tr th:only-of-type {\n",
       "        vertical-align: middle;\n",
       "    }\n",
       "\n",
       "    .dataframe tbody tr th {\n",
       "        vertical-align: top;\n",
       "    }\n",
       "\n",
       "    .dataframe thead th {\n",
       "        text-align: right;\n",
       "    }\n",
       "</style>\n",
       "<table border=\"1\" class=\"dataframe\">\n",
       "  <thead>\n",
       "    <tr style=\"text-align: right;\">\n",
       "      <th></th>\n",
       "      <th>A产品</th>\n",
       "      <th>B产品</th>\n",
       "      <th>C产品</th>\n",
       "    </tr>\n",
       "  </thead>\n",
       "  <tbody>\n",
       "    <tr>\n",
       "      <th>2018-06-10</th>\n",
       "      <td>101</td>\n",
       "      <td>210</td>\n",
       "      <td>150</td>\n",
       "    </tr>\n",
       "    <tr>\n",
       "      <th>2018-06-11</th>\n",
       "      <td>101</td>\n",
       "      <td>210</td>\n",
       "      <td>150</td>\n",
       "    </tr>\n",
       "    <tr>\n",
       "      <th>2018-06-12</th>\n",
       "      <td>101</td>\n",
       "      <td>210</td>\n",
       "      <td>150</td>\n",
       "    </tr>\n",
       "    <tr>\n",
       "      <th>2018-06-13</th>\n",
       "      <td>101</td>\n",
       "      <td>210</td>\n",
       "      <td>150</td>\n",
       "    </tr>\n",
       "    <tr>\n",
       "      <th>2018-06-14</th>\n",
       "      <td>101</td>\n",
       "      <td>210</td>\n",
       "      <td>150</td>\n",
       "    </tr>\n",
       "    <tr>\n",
       "      <th>2018-06-15</th>\n",
       "      <td>101</td>\n",
       "      <td>210</td>\n",
       "      <td>150</td>\n",
       "    </tr>\n",
       "    <tr>\n",
       "      <th>2018-06-16</th>\n",
       "      <td>101</td>\n",
       "      <td>210</td>\n",
       "      <td>150</td>\n",
       "    </tr>\n",
       "    <tr>\n",
       "      <th>2018-06-17</th>\n",
       "      <td>330</td>\n",
       "      <td>460</td>\n",
       "      <td>580</td>\n",
       "    </tr>\n",
       "  </tbody>\n",
       "</table>\n",
       "</div>"
      ],
      "text/plain": [
       "            A产品  B产品  C产品\n",
       "2018-06-10  101  210  150\n",
       "2018-06-11  101  210  150\n",
       "2018-06-12  101  210  150\n",
       "2018-06-13  101  210  150\n",
       "2018-06-14  101  210  150\n",
       "2018-06-15  101  210  150\n",
       "2018-06-16  101  210  150\n",
       "2018-06-17  330  460  580"
      ]
     },
     "execution_count": 53,
     "metadata": {},
     "output_type": "execute_result"
    }
   ],
   "source": [
    "data_demo = np.array([['101', '210', '150'], ['330', '460', '580']])\n",
    "date_index = pd.date_range('2018/06/10', periods=2, freq='W-SUN')\n",
    "time_df = pd.DataFrame(data_demo, index=date_index, \n",
    "columns=['A产品', 'B产品', 'C产品'])\n",
    "time_df.resample('D').ffill()"
   ]
  },
  {
   "cell_type": "code",
   "execution_count": null,
   "id": "13adb8ed",
   "metadata": {},
   "outputs": [],
   "source": []
  }
 ],
 "metadata": {
  "kernelspec": {
   "display_name": "Python 3 (ipykernel)",
   "language": "python",
   "name": "python3"
  },
  "language_info": {
   "codemirror_mode": {
    "name": "ipython",
    "version": 3
   },
   "file_extension": ".py",
   "mimetype": "text/x-python",
   "name": "python",
   "nbconvert_exporter": "python",
   "pygments_lexer": "ipython3",
   "version": "3.11.5"
  }
 },
 "nbformat": 4,
 "nbformat_minor": 5
}
