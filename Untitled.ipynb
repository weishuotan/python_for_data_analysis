{
 "cells": [
  {
   "cell_type": "code",
   "execution_count": 33,
   "id": "aba7ec43",
   "metadata": {},
   "outputs": [],
   "source": [
    "import pandas as pd\n",
    "import numpy as np\n",
    "import matplotlib. pyplot as plt\n"
   ]
  },
  {
   "cell_type": "code",
   "execution_count": 3,
   "id": "57a075c4",
   "metadata": {},
   "outputs": [
    {
     "data": {
      "text/html": [
       "<div>\n",
       "<style scoped>\n",
       "    .dataframe tbody tr th:only-of-type {\n",
       "        vertical-align: middle;\n",
       "    }\n",
       "\n",
       "    .dataframe tbody tr th {\n",
       "        vertical-align: top;\n",
       "    }\n",
       "\n",
       "    .dataframe thead th {\n",
       "        text-align: right;\n",
       "    }\n",
       "</style>\n",
       "<table border=\"1\" class=\"dataframe\">\n",
       "  <thead>\n",
       "    <tr style=\"text-align: right;\">\n",
       "      <th></th>\n",
       "      <th>VehicleNum</th>\n",
       "      <th>Stime</th>\n",
       "      <th>SLng</th>\n",
       "      <th>SLat</th>\n",
       "      <th>ELng</th>\n",
       "      <th>ELat</th>\n",
       "      <th>Etime</th>\n",
       "    </tr>\n",
       "  </thead>\n",
       "  <tbody>\n",
       "    <tr>\n",
       "      <th>0</th>\n",
       "      <td>22223</td>\n",
       "      <td>00:03:23</td>\n",
       "      <td>114.167465</td>\n",
       "      <td>22.562468</td>\n",
       "      <td>114.225235</td>\n",
       "      <td>22.552750</td>\n",
       "      <td>00:10:48</td>\n",
       "    </tr>\n",
       "    <tr>\n",
       "      <th>1</th>\n",
       "      <td>22223</td>\n",
       "      <td>00:11:33</td>\n",
       "      <td>114.227150</td>\n",
       "      <td>22.554167</td>\n",
       "      <td>114.229218</td>\n",
       "      <td>22.560217</td>\n",
       "      <td>00:15:19</td>\n",
       "    </tr>\n",
       "    <tr>\n",
       "      <th>2</th>\n",
       "      <td>22223</td>\n",
       "      <td>00:17:13</td>\n",
       "      <td>114.231354</td>\n",
       "      <td>22.562166</td>\n",
       "      <td>114.255798</td>\n",
       "      <td>22.590967</td>\n",
       "      <td>00:29:06</td>\n",
       "    </tr>\n",
       "    <tr>\n",
       "      <th>3</th>\n",
       "      <td>22223</td>\n",
       "      <td>00:36:45</td>\n",
       "      <td>114.240196</td>\n",
       "      <td>22.563650</td>\n",
       "      <td>114.119965</td>\n",
       "      <td>22.566668</td>\n",
       "      <td>00:54:42</td>\n",
       "    </tr>\n",
       "    <tr>\n",
       "      <th>4</th>\n",
       "      <td>22223</td>\n",
       "      <td>01:01:14</td>\n",
       "      <td>114.135414</td>\n",
       "      <td>22.575933</td>\n",
       "      <td>114.166748</td>\n",
       "      <td>22.608267</td>\n",
       "      <td>01:08:17</td>\n",
       "    </tr>\n",
       "  </tbody>\n",
       "</table>\n",
       "</div>"
      ],
      "text/plain": [
       "   VehicleNum     Stime        SLng       SLat        ELng       ELat  \\\n",
       "0       22223  00:03:23  114.167465  22.562468  114.225235  22.552750   \n",
       "1       22223  00:11:33  114.227150  22.554167  114.229218  22.560217   \n",
       "2       22223  00:17:13  114.231354  22.562166  114.255798  22.590967   \n",
       "3       22223  00:36:45  114.240196  22.563650  114.119965  22.566668   \n",
       "4       22223  01:01:14  114.135414  22.575933  114.166748  22.608267   \n",
       "\n",
       "      Etime  \n",
       "0  00:10:48  \n",
       "1  00:15:19  \n",
       "2  00:29:06  \n",
       "3  00:54:42  \n",
       "4  01:08:17  "
      ]
     },
     "execution_count": 3,
     "metadata": {},
     "output_type": "execute_result"
    }
   ],
   "source": [
    "df = pd.read_csv(r\"D:\\experiment202401\\1.阶段1教学资料\\阶段1：项目需求分析\\1.数据源\\taxi_sz.csv\")\n",
    "df.head()"
   ]
  },
  {
   "cell_type": "code",
   "execution_count": 4,
   "id": "c1234823",
   "metadata": {},
   "outputs": [
    {
     "data": {
      "text/html": [
       "<div>\n",
       "<style scoped>\n",
       "    .dataframe tbody tr th:only-of-type {\n",
       "        vertical-align: middle;\n",
       "    }\n",
       "\n",
       "    .dataframe tbody tr th {\n",
       "        vertical-align: top;\n",
       "    }\n",
       "\n",
       "    .dataframe thead th {\n",
       "        text-align: right;\n",
       "    }\n",
       "</style>\n",
       "<table border=\"1\" class=\"dataframe\">\n",
       "  <thead>\n",
       "    <tr style=\"text-align: right;\">\n",
       "      <th></th>\n",
       "      <th>VehicleNum</th>\n",
       "      <th>Stime</th>\n",
       "      <th>Lng</th>\n",
       "      <th>Lat</th>\n",
       "      <th>OpenStatus</th>\n",
       "      <th>Speed</th>\n",
       "    </tr>\n",
       "  </thead>\n",
       "  <tbody>\n",
       "    <tr>\n",
       "      <th>0</th>\n",
       "      <td>22271</td>\n",
       "      <td>22:54:04</td>\n",
       "      <td>114.167000</td>\n",
       "      <td>22.718399</td>\n",
       "      <td>0</td>\n",
       "      <td>0</td>\n",
       "    </tr>\n",
       "    <tr>\n",
       "      <th>1</th>\n",
       "      <td>22271</td>\n",
       "      <td>18:26:26</td>\n",
       "      <td>114.190598</td>\n",
       "      <td>22.647800</td>\n",
       "      <td>0</td>\n",
       "      <td>4</td>\n",
       "    </tr>\n",
       "    <tr>\n",
       "      <th>2</th>\n",
       "      <td>22271</td>\n",
       "      <td>18:35:18</td>\n",
       "      <td>114.201401</td>\n",
       "      <td>22.649700</td>\n",
       "      <td>0</td>\n",
       "      <td>0</td>\n",
       "    </tr>\n",
       "    <tr>\n",
       "      <th>3</th>\n",
       "      <td>22271</td>\n",
       "      <td>16:02:46</td>\n",
       "      <td>114.233498</td>\n",
       "      <td>22.725901</td>\n",
       "      <td>0</td>\n",
       "      <td>24</td>\n",
       "    </tr>\n",
       "    <tr>\n",
       "      <th>4</th>\n",
       "      <td>22271</td>\n",
       "      <td>21:41:17</td>\n",
       "      <td>114.233597</td>\n",
       "      <td>22.720900</td>\n",
       "      <td>0</td>\n",
       "      <td>19</td>\n",
       "    </tr>\n",
       "  </tbody>\n",
       "</table>\n",
       "</div>"
      ],
      "text/plain": [
       "   VehicleNum     Stime         Lng        Lat  OpenStatus  Speed\n",
       "0       22271  22:54:04  114.167000  22.718399           0      0\n",
       "1       22271  18:26:26  114.190598  22.647800           0      4\n",
       "2       22271  18:35:18  114.201401  22.649700           0      0\n",
       "3       22271  16:02:46  114.233498  22.725901           0     24\n",
       "4       22271  21:41:17  114.233597  22.720900           0     19"
      ]
     },
     "execution_count": 4,
     "metadata": {},
     "output_type": "execute_result"
    }
   ],
   "source": [
    "df2 = pd.read_csv(r\"D:\\experiment202401\\1.阶段1教学资料\\阶段1：项目需求分析\\1.数据源\\Taxi_sz_data.csv\")\n",
    "df2.head()"
   ]
  },
  {
   "cell_type": "code",
   "execution_count": 6,
   "id": "6832c37d",
   "metadata": {},
   "outputs": [
    {
     "name": "stdout",
     "output_type": "stream",
     "text": [
      "        VehicleNum     Stime         Lng        Lat  OpenStatus  Speed\n",
      "168482       30573  07:28:23  114.120033  22.558250           0     15\n",
      "168483       30573  09:58:15  113.907669  22.558384           1      6\n",
      "168484       30573  09:57:25  113.907669  22.558416           0      0\n",
      "168485       30573  09:58:52  113.909920  22.559982           1     20\n",
      "168486       30573  09:59:28  113.911751  22.559483           1     55\n",
      "...            ...       ...         ...        ...         ...    ...\n",
      "175000       30573  22:30:47  114.136971  22.551033           1     50\n",
      "175001       30573  22:14:13  114.139900  22.558332           1     55\n",
      "175002       30573  22:26:19  114.174431  22.562384           1     62\n",
      "175003       30573  22:18:52  114.174683  22.562050           1     69\n",
      "175004       30573  22:21:42  114.179337  22.557768           0     13\n",
      "\n",
      "[6523 rows x 6 columns]\n"
     ]
    }
   ],
   "source": [
    "print(df2[df2['VehicleNum']==30573])"
   ]
  },
  {
   "cell_type": "code",
   "execution_count": 11,
   "id": "0bb17b93",
   "metadata": {},
   "outputs": [
    {
     "data": {
      "text/html": [
       "<div>\n",
       "<style scoped>\n",
       "    .dataframe tbody tr th:only-of-type {\n",
       "        vertical-align: middle;\n",
       "    }\n",
       "\n",
       "    .dataframe tbody tr th {\n",
       "        vertical-align: top;\n",
       "    }\n",
       "\n",
       "    .dataframe thead th {\n",
       "        text-align: right;\n",
       "    }\n",
       "</style>\n",
       "<table border=\"1\" class=\"dataframe\">\n",
       "  <thead>\n",
       "    <tr style=\"text-align: right;\">\n",
       "      <th></th>\n",
       "      <th>VehicleNum</th>\n",
       "      <th>Stime</th>\n",
       "      <th>Lng</th>\n",
       "      <th>Lat</th>\n",
       "      <th>OpenStatus</th>\n",
       "      <th>Speed</th>\n",
       "    </tr>\n",
       "  </thead>\n",
       "  <tbody>\n",
       "    <tr>\n",
       "      <th>169965</th>\n",
       "      <td>30573</td>\n",
       "      <td>00:00:14</td>\n",
       "      <td>114.118065</td>\n",
       "      <td>22.543449</td>\n",
       "      <td>1</td>\n",
       "      <td>19</td>\n",
       "    </tr>\n",
       "    <tr>\n",
       "      <th>172861</th>\n",
       "      <td>30573</td>\n",
       "      <td>00:00:15</td>\n",
       "      <td>114.118149</td>\n",
       "      <td>22.543367</td>\n",
       "      <td>1</td>\n",
       "      <td>28</td>\n",
       "    </tr>\n",
       "    <tr>\n",
       "      <th>172865</th>\n",
       "      <td>30573</td>\n",
       "      <td>00:00:25</td>\n",
       "      <td>114.118835</td>\n",
       "      <td>22.542601</td>\n",
       "      <td>1</td>\n",
       "      <td>44</td>\n",
       "    </tr>\n",
       "    <tr>\n",
       "      <th>169974</th>\n",
       "      <td>30573</td>\n",
       "      <td>00:00:35</td>\n",
       "      <td>114.119583</td>\n",
       "      <td>22.541983</td>\n",
       "      <td>1</td>\n",
       "      <td>40</td>\n",
       "    </tr>\n",
       "    <tr>\n",
       "      <th>173170</th>\n",
       "      <td>30573</td>\n",
       "      <td>00:00:45</td>\n",
       "      <td>114.120171</td>\n",
       "      <td>22.541849</td>\n",
       "      <td>1</td>\n",
       "      <td>10</td>\n",
       "    </tr>\n",
       "    <tr>\n",
       "      <th>...</th>\n",
       "      <td>...</td>\n",
       "      <td>...</td>\n",
       "      <td>...</td>\n",
       "      <td>...</td>\n",
       "      <td>...</td>\n",
       "      <td>...</td>\n",
       "    </tr>\n",
       "    <tr>\n",
       "      <th>172063</th>\n",
       "      <td>30573</td>\n",
       "      <td>23:53:36</td>\n",
       "      <td>114.020897</td>\n",
       "      <td>22.637199</td>\n",
       "      <td>0</td>\n",
       "      <td>30</td>\n",
       "    </tr>\n",
       "    <tr>\n",
       "      <th>169704</th>\n",
       "      <td>30573</td>\n",
       "      <td>23:53:46</td>\n",
       "      <td>114.021797</td>\n",
       "      <td>22.636818</td>\n",
       "      <td>0</td>\n",
       "      <td>53</td>\n",
       "    </tr>\n",
       "    <tr>\n",
       "      <th>174459</th>\n",
       "      <td>30573</td>\n",
       "      <td>23:53:56</td>\n",
       "      <td>114.023132</td>\n",
       "      <td>22.636467</td>\n",
       "      <td>0</td>\n",
       "      <td>49</td>\n",
       "    </tr>\n",
       "    <tr>\n",
       "      <th>168824</th>\n",
       "      <td>30573</td>\n",
       "      <td>23:54:06</td>\n",
       "      <td>114.023979</td>\n",
       "      <td>22.636232</td>\n",
       "      <td>0</td>\n",
       "      <td>11</td>\n",
       "    </tr>\n",
       "    <tr>\n",
       "      <th>169393</th>\n",
       "      <td>30573</td>\n",
       "      <td>23:59:56</td>\n",
       "      <td>114.035416</td>\n",
       "      <td>22.621683</td>\n",
       "      <td>0</td>\n",
       "      <td>33</td>\n",
       "    </tr>\n",
       "  </tbody>\n",
       "</table>\n",
       "<p>6523 rows × 6 columns</p>\n",
       "</div>"
      ],
      "text/plain": [
       "        VehicleNum     Stime         Lng        Lat  OpenStatus  Speed\n",
       "169965       30573  00:00:14  114.118065  22.543449           1     19\n",
       "172861       30573  00:00:15  114.118149  22.543367           1     28\n",
       "172865       30573  00:00:25  114.118835  22.542601           1     44\n",
       "169974       30573  00:00:35  114.119583  22.541983           1     40\n",
       "173170       30573  00:00:45  114.120171  22.541849           1     10\n",
       "...            ...       ...         ...        ...         ...    ...\n",
       "172063       30573  23:53:36  114.020897  22.637199           0     30\n",
       "169704       30573  23:53:46  114.021797  22.636818           0     53\n",
       "174459       30573  23:53:56  114.023132  22.636467           0     49\n",
       "168824       30573  23:54:06  114.023979  22.636232           0     11\n",
       "169393       30573  23:59:56  114.035416  22.621683           0     33\n",
       "\n",
       "[6523 rows x 6 columns]"
      ]
     },
     "execution_count": 11,
     "metadata": {},
     "output_type": "execute_result"
    }
   ],
   "source": [
    "df3=df2[df2['VehicleNum']==30573]\n",
    "df3.sort_values(by='Stime')"
   ]
  },
  {
   "cell_type": "code",
   "execution_count": 34,
   "id": "7ac6c212",
   "metadata": {},
   "outputs": [
    {
     "data": {
      "text/html": [
       "<div>\n",
       "<style scoped>\n",
       "    .dataframe tbody tr th:only-of-type {\n",
       "        vertical-align: middle;\n",
       "    }\n",
       "\n",
       "    .dataframe tbody tr th {\n",
       "        vertical-align: top;\n",
       "    }\n",
       "\n",
       "    .dataframe thead th {\n",
       "        text-align: right;\n",
       "    }\n",
       "</style>\n",
       "<table border=\"1\" class=\"dataframe\">\n",
       "  <thead>\n",
       "    <tr style=\"text-align: right;\">\n",
       "      <th></th>\n",
       "      <th>VehicleNum</th>\n",
       "      <th>Stime</th>\n",
       "      <th>Lng</th>\n",
       "      <th>Lat</th>\n",
       "      <th>OpenStatus</th>\n",
       "      <th>Speed</th>\n",
       "    </tr>\n",
       "  </thead>\n",
       "  <tbody>\n",
       "    <tr>\n",
       "      <th>0</th>\n",
       "      <td>22271</td>\n",
       "      <td>22:54:04</td>\n",
       "      <td>114.167000</td>\n",
       "      <td>22.718399</td>\n",
       "      <td>0</td>\n",
       "      <td>0</td>\n",
       "    </tr>\n",
       "    <tr>\n",
       "      <th>1</th>\n",
       "      <td>22271</td>\n",
       "      <td>18:26:26</td>\n",
       "      <td>114.190598</td>\n",
       "      <td>22.647800</td>\n",
       "      <td>0</td>\n",
       "      <td>4</td>\n",
       "    </tr>\n",
       "    <tr>\n",
       "      <th>2</th>\n",
       "      <td>22271</td>\n",
       "      <td>18:35:18</td>\n",
       "      <td>114.201401</td>\n",
       "      <td>22.649700</td>\n",
       "      <td>0</td>\n",
       "      <td>0</td>\n",
       "    </tr>\n",
       "    <tr>\n",
       "      <th>3</th>\n",
       "      <td>22271</td>\n",
       "      <td>16:02:46</td>\n",
       "      <td>114.233498</td>\n",
       "      <td>22.725901</td>\n",
       "      <td>0</td>\n",
       "      <td>24</td>\n",
       "    </tr>\n",
       "    <tr>\n",
       "      <th>4</th>\n",
       "      <td>22271</td>\n",
       "      <td>21:41:17</td>\n",
       "      <td>114.233597</td>\n",
       "      <td>22.720900</td>\n",
       "      <td>0</td>\n",
       "      <td>19</td>\n",
       "    </tr>\n",
       "    <tr>\n",
       "      <th>...</th>\n",
       "      <td>...</td>\n",
       "      <td>...</td>\n",
       "      <td>...</td>\n",
       "      <td>...</td>\n",
       "      <td>...</td>\n",
       "      <td>...</td>\n",
       "    </tr>\n",
       "    <tr>\n",
       "      <th>1601302</th>\n",
       "      <td>23873</td>\n",
       "      <td>20:20:03</td>\n",
       "      <td>114.160149</td>\n",
       "      <td>22.606934</td>\n",
       "      <td>0</td>\n",
       "      <td>0</td>\n",
       "    </tr>\n",
       "    <tr>\n",
       "      <th>1601303</th>\n",
       "      <td>23873</td>\n",
       "      <td>20:15:13</td>\n",
       "      <td>114.164551</td>\n",
       "      <td>22.605118</td>\n",
       "      <td>1</td>\n",
       "      <td>48</td>\n",
       "    </tr>\n",
       "    <tr>\n",
       "      <th>1601304</th>\n",
       "      <td>23873</td>\n",
       "      <td>20:16:23</td>\n",
       "      <td>114.168015</td>\n",
       "      <td>22.606083</td>\n",
       "      <td>0</td>\n",
       "      <td>0</td>\n",
       "    </tr>\n",
       "    <tr>\n",
       "      <th>1601305</th>\n",
       "      <td>23873</td>\n",
       "      <td>20:16:43</td>\n",
       "      <td>114.168015</td>\n",
       "      <td>22.606083</td>\n",
       "      <td>0</td>\n",
       "      <td>0</td>\n",
       "    </tr>\n",
       "    <tr>\n",
       "      <th>1601306</th>\n",
       "      <td>23873</td>\n",
       "      <td>20:26:39</td>\n",
       "      <td>114.170647</td>\n",
       "      <td>22.604383</td>\n",
       "      <td>0</td>\n",
       "      <td>0</td>\n",
       "    </tr>\n",
       "  </tbody>\n",
       "</table>\n",
       "<p>1601307 rows × 6 columns</p>\n",
       "</div>"
      ],
      "text/plain": [
       "         VehicleNum     Stime         Lng        Lat  OpenStatus  Speed\n",
       "0             22271  22:54:04  114.167000  22.718399           0      0\n",
       "1             22271  18:26:26  114.190598  22.647800           0      4\n",
       "2             22271  18:35:18  114.201401  22.649700           0      0\n",
       "3             22271  16:02:46  114.233498  22.725901           0     24\n",
       "4             22271  21:41:17  114.233597  22.720900           0     19\n",
       "...             ...       ...         ...        ...         ...    ...\n",
       "1601302       23873  20:20:03  114.160149  22.606934           0      0\n",
       "1601303       23873  20:15:13  114.164551  22.605118           1     48\n",
       "1601304       23873  20:16:23  114.168015  22.606083           0      0\n",
       "1601305       23873  20:16:43  114.168015  22.606083           0      0\n",
       "1601306       23873  20:26:39  114.170647  22.604383           0      0\n",
       "\n",
       "[1601307 rows x 6 columns]"
      ]
     },
     "execution_count": 34,
     "metadata": {},
     "output_type": "execute_result"
    }
   ],
   "source": [
    "data = pd.read_csv(r\"D:\\experiment202401\\1.阶段1教学资料\\阶段1：项目需求分析\\1.数据源\\Taxi_sz_data.csv\")\n",
    "data"
   ]
  },
  {
   "cell_type": "code",
   "execution_count": 42,
   "id": "6f14c977",
   "metadata": {},
   "outputs": [
    {
     "data": {
      "text/plain": [
       "0           0\n",
       "1           4\n",
       "2           0\n",
       "3          24\n",
       "4          19\n",
       "           ..\n",
       "1601302     0\n",
       "1601303    48\n",
       "1601304     0\n",
       "1601305     0\n",
       "1601306     0\n",
       "Name: Speed, Length: 1601307, dtype: int64"
      ]
     },
     "execution_count": 42,
     "metadata": {},
     "output_type": "execute_result"
    }
   ],
   "source": [
    "x=data['Speed']\n",
    "x"
   ]
  },
  {
   "cell_type": "code",
   "execution_count": 46,
   "id": "5aacaeeb",
   "metadata": {},
   "outputs": [
    {
     "data": {
      "text/plain": [
       "1           (0, 10]\n",
       "3          (20, 30]\n",
       "4          (10, 20]\n",
       "6           (0, 10]\n",
       "7           (0, 10]\n",
       "             ...   \n",
       "1601298    (40, 50]\n",
       "1601299    (20, 30]\n",
       "1601300     (0, 10]\n",
       "1601301    (10, 20]\n",
       "1601303    (40, 50]\n",
       "Name: Speed, Length: 952042, dtype: category\n",
       "Categories (9, interval[int64, right]): [(0, 10] < (10, 20] < (20, 30] < (30, 40] ... (50, 60] < (60, 70] < (70, 80] < (80, 90]]"
      ]
     },
     "execution_count": 46,
     "metadata": {},
     "output_type": "execute_result"
    }
   ],
   "source": [
    "y=pd.cut(x,bins=[0,10,20,30,40,50,60,70,80,90]).dropna()\n",
    "y"
   ]
  },
  {
   "cell_type": "code",
   "execution_count": 49,
   "id": "6fed74e1",
   "metadata": {},
   "outputs": [
    {
     "data": {
      "text/html": [
       "<div>\n",
       "<style scoped>\n",
       "    .dataframe tbody tr th:only-of-type {\n",
       "        vertical-align: middle;\n",
       "    }\n",
       "\n",
       "    .dataframe tbody tr th {\n",
       "        vertical-align: top;\n",
       "    }\n",
       "\n",
       "    .dataframe thead th {\n",
       "        text-align: right;\n",
       "    }\n",
       "</style>\n",
       "<table border=\"1\" class=\"dataframe\">\n",
       "  <thead>\n",
       "    <tr style=\"text-align: right;\">\n",
       "      <th></th>\n",
       "      <th>Speed</th>\n",
       "    </tr>\n",
       "  </thead>\n",
       "  <tbody>\n",
       "    <tr>\n",
       "      <th>1</th>\n",
       "      <td>(0, 10]</td>\n",
       "    </tr>\n",
       "    <tr>\n",
       "      <th>3</th>\n",
       "      <td>(20, 30]</td>\n",
       "    </tr>\n",
       "    <tr>\n",
       "      <th>4</th>\n",
       "      <td>(10, 20]</td>\n",
       "    </tr>\n",
       "    <tr>\n",
       "      <th>6</th>\n",
       "      <td>(0, 10]</td>\n",
       "    </tr>\n",
       "    <tr>\n",
       "      <th>7</th>\n",
       "      <td>(0, 10]</td>\n",
       "    </tr>\n",
       "    <tr>\n",
       "      <th>...</th>\n",
       "      <td>...</td>\n",
       "    </tr>\n",
       "    <tr>\n",
       "      <th>1601298</th>\n",
       "      <td>(40, 50]</td>\n",
       "    </tr>\n",
       "    <tr>\n",
       "      <th>1601299</th>\n",
       "      <td>(20, 30]</td>\n",
       "    </tr>\n",
       "    <tr>\n",
       "      <th>1601300</th>\n",
       "      <td>(0, 10]</td>\n",
       "    </tr>\n",
       "    <tr>\n",
       "      <th>1601301</th>\n",
       "      <td>(10, 20]</td>\n",
       "    </tr>\n",
       "    <tr>\n",
       "      <th>1601303</th>\n",
       "      <td>(40, 50]</td>\n",
       "    </tr>\n",
       "  </tbody>\n",
       "</table>\n",
       "<p>952042 rows × 1 columns</p>\n",
       "</div>"
      ],
      "text/plain": [
       "            Speed\n",
       "1         (0, 10]\n",
       "3        (20, 30]\n",
       "4        (10, 20]\n",
       "6         (0, 10]\n",
       "7         (0, 10]\n",
       "...           ...\n",
       "1601298  (40, 50]\n",
       "1601299  (20, 30]\n",
       "1601300   (0, 10]\n",
       "1601301  (10, 20]\n",
       "1601303  (40, 50]\n",
       "\n",
       "[952042 rows x 1 columns]"
      ]
     },
     "execution_count": 49,
     "metadata": {},
     "output_type": "execute_result"
    }
   ],
   "source": [
    "z=pd.DataFrame(y)\n",
    "z"
   ]
  },
  {
   "cell_type": "code",
   "execution_count": 74,
   "id": "49d2561f",
   "metadata": {},
   "outputs": [],
   "source": [
    "num=z.groupby(by='Speed').size()"
   ]
  },
  {
   "cell_type": "code",
   "execution_count": 75,
   "id": "f0658d31",
   "metadata": {},
   "outputs": [
    {
     "data": {
      "image/png": "[encoded data removed]",
      "text/plain": [
       "<Figure size 640x480 with 1 Axes>"
      ]
     },
     "metadata": {},
     "output_type": "display_data"
    }
   ],
   "source": [
    "plt.bar(num.index.astype(str),num)\n",
    "plt.show()"
   ]
  },
  {
   "cell_type": "code",
   "execution_count": null,
   "id": "69303a82",
   "metadata": {},
   "outputs": [],
   "source": []
  },
  {
   "cell_type": "code",
   "execution_count": null,
   "id": "e371e56b",
   "metadata": {},
   "outputs": [],
   "source": []
  },
  {
   "cell_type": "code",
   "execution_count": null,
   "id": "2c22d487",
   "metadata": {},
   "outputs": [],
   "source": []
  },
  {
   "cell_type": "code",
   "execution_count": 16,
   "id": "b5f2782d",
   "metadata": {},
   "outputs": [
    {
     "data": {
      "text/html": [
       "<div>\n",
       "<style scoped>\n",
       "    .dataframe tbody tr th:only-of-type {\n",
       "        vertical-align: middle;\n",
       "    }\n",
       "\n",
       "    .dataframe tbody tr th {\n",
       "        vertical-align: top;\n",
       "    }\n",
       "\n",
       "    .dataframe thead th {\n",
       "        text-align: right;\n",
       "    }\n",
       "</style>\n",
       "<table border=\"1\" class=\"dataframe\">\n",
       "  <thead>\n",
       "    <tr style=\"text-align: right;\">\n",
       "      <th></th>\n",
       "      <th>VehicleNum</th>\n",
       "      <th>Stime</th>\n",
       "      <th>Lng</th>\n",
       "      <th>Lat</th>\n",
       "      <th>OpenStatus</th>\n",
       "      <th>Speed</th>\n",
       "    </tr>\n",
       "  </thead>\n",
       "  <tbody>\n",
       "    <tr>\n",
       "      <th>3293</th>\n",
       "      <td>29480</td>\n",
       "      <td>19:16:38</td>\n",
       "      <td>113.889084</td>\n",
       "      <td>22.583418</td>\n",
       "      <td>1</td>\n",
       "      <td>24</td>\n",
       "    </tr>\n",
       "    <tr>\n",
       "      <th>3296</th>\n",
       "      <td>29480</td>\n",
       "      <td>12:13:14</td>\n",
       "      <td>113.908020</td>\n",
       "      <td>22.486217</td>\n",
       "      <td>1</td>\n",
       "      <td>1</td>\n",
       "    </tr>\n",
       "    <tr>\n",
       "      <th>3297</th>\n",
       "      <td>29480</td>\n",
       "      <td>12:53:52</td>\n",
       "      <td>113.910454</td>\n",
       "      <td>22.534451</td>\n",
       "      <td>1</td>\n",
       "      <td>42</td>\n",
       "    </tr>\n",
       "    <tr>\n",
       "      <th>3298</th>\n",
       "      <td>29480</td>\n",
       "      <td>12:06:54</td>\n",
       "      <td>113.910950</td>\n",
       "      <td>22.492283</td>\n",
       "      <td>1</td>\n",
       "      <td>41</td>\n",
       "    </tr>\n",
       "    <tr>\n",
       "      <th>3299</th>\n",
       "      <td>29480</td>\n",
       "      <td>12:56:35</td>\n",
       "      <td>113.912064</td>\n",
       "      <td>22.544268</td>\n",
       "      <td>1</td>\n",
       "      <td>29</td>\n",
       "    </tr>\n",
       "    <tr>\n",
       "      <th>...</th>\n",
       "      <td>...</td>\n",
       "      <td>...</td>\n",
       "      <td>...</td>\n",
       "      <td>...</td>\n",
       "      <td>...</td>\n",
       "      <td>...</td>\n",
       "    </tr>\n",
       "    <tr>\n",
       "      <th>1601295</th>\n",
       "      <td>23873</td>\n",
       "      <td>22:26:24</td>\n",
       "      <td>114.146980</td>\n",
       "      <td>22.670601</td>\n",
       "      <td>1</td>\n",
       "      <td>55</td>\n",
       "    </tr>\n",
       "    <tr>\n",
       "      <th>1601299</th>\n",
       "      <td>23873</td>\n",
       "      <td>19:51:17</td>\n",
       "      <td>114.150917</td>\n",
       "      <td>22.618532</td>\n",
       "      <td>1</td>\n",
       "      <td>22</td>\n",
       "    </tr>\n",
       "    <tr>\n",
       "      <th>1601300</th>\n",
       "      <td>23873</td>\n",
       "      <td>19:50:27</td>\n",
       "      <td>114.151604</td>\n",
       "      <td>22.620684</td>\n",
       "      <td>1</td>\n",
       "      <td>4</td>\n",
       "    </tr>\n",
       "    <tr>\n",
       "      <th>1601301</th>\n",
       "      <td>23873</td>\n",
       "      <td>19:49:37</td>\n",
       "      <td>114.151970</td>\n",
       "      <td>22.621750</td>\n",
       "      <td>1</td>\n",
       "      <td>11</td>\n",
       "    </tr>\n",
       "    <tr>\n",
       "      <th>1601303</th>\n",
       "      <td>23873</td>\n",
       "      <td>20:15:13</td>\n",
       "      <td>114.164551</td>\n",
       "      <td>22.605118</td>\n",
       "      <td>1</td>\n",
       "      <td>48</td>\n",
       "    </tr>\n",
       "  </tbody>\n",
       "</table>\n",
       "<p>670022 rows × 6 columns</p>\n",
       "</div>"
      ],
      "text/plain": [
       "         VehicleNum     Stime         Lng        Lat  OpenStatus  Speed\n",
       "3293          29480  19:16:38  113.889084  22.583418           1     24\n",
       "3296          29480  12:13:14  113.908020  22.486217           1      1\n",
       "3297          29480  12:53:52  113.910454  22.534451           1     42\n",
       "3298          29480  12:06:54  113.910950  22.492283           1     41\n",
       "3299          29480  12:56:35  113.912064  22.544268           1     29\n",
       "...             ...       ...         ...        ...         ...    ...\n",
       "1601295       23873  22:26:24  114.146980  22.670601           1     55\n",
       "1601299       23873  19:51:17  114.150917  22.618532           1     22\n",
       "1601300       23873  19:50:27  114.151604  22.620684           1      4\n",
       "1601301       23873  19:49:37  114.151970  22.621750           1     11\n",
       "1601303       23873  20:15:13  114.164551  22.605118           1     48\n",
       "\n",
       "[670022 rows x 6 columns]"
      ]
     },
     "execution_count": 16,
     "metadata": {},
     "output_type": "execute_result"
    }
   ],
   "source": [
    "data1=data[data['OpenStatus']==1]\n",
    "data1"
   ]
  },
  {
   "cell_type": "code",
   "execution_count": 65,
   "id": "13a3b046",
   "metadata": {},
   "outputs": [
    {
     "data": {
      "text/plain": [
       "VehicleNum\n",
       "22334    22.069030\n",
       "22396    22.784794\n",
       "22413    86.000000\n",
       "22437    19.743369\n",
       "22449    24.912961\n",
       "           ...    \n",
       "36686    22.396147\n",
       "36726    25.774349\n",
       "36754    18.558763\n",
       "36800    22.780606\n",
       "36805    30.471120\n",
       "Name: Speed, Length: 365, dtype: float64"
      ]
     },
     "execution_count": 65,
     "metadata": {},
     "output_type": "execute_result"
    }
   ],
   "source": [
    "data2=data1.groupby('VehicleNum')\n",
    "data3=data2['Speed'].mean()\n",
    "data3"
   ]
  },
  {
   "cell_type": "code",
   "execution_count": 69,
   "id": "f868ab0f",
   "metadata": {},
   "outputs": [
    {
     "data": {
      "text/html": [
       "<div>\n",
       "<style scoped>\n",
       "    .dataframe tbody tr th:only-of-type {\n",
       "        vertical-align: middle;\n",
       "    }\n",
       "\n",
       "    .dataframe tbody tr th {\n",
       "        vertical-align: top;\n",
       "    }\n",
       "\n",
       "    .dataframe thead th {\n",
       "        text-align: right;\n",
       "    }\n",
       "</style>\n",
       "<table border=\"1\" class=\"dataframe\">\n",
       "  <thead>\n",
       "    <tr style=\"text-align: right;\">\n",
       "      <th></th>\n",
       "      <th>Speed</th>\n",
       "    </tr>\n",
       "    <tr>\n",
       "      <th>VehicleNum</th>\n",
       "      <th></th>\n",
       "    </tr>\n",
       "  </thead>\n",
       "  <tbody>\n",
       "    <tr>\n",
       "      <th>22334</th>\n",
       "      <td>22.069030</td>\n",
       "    </tr>\n",
       "    <tr>\n",
       "      <th>22396</th>\n",
       "      <td>22.784794</td>\n",
       "    </tr>\n",
       "    <tr>\n",
       "      <th>22413</th>\n",
       "      <td>86.000000</td>\n",
       "    </tr>\n",
       "    <tr>\n",
       "      <th>22437</th>\n",
       "      <td>19.743369</td>\n",
       "    </tr>\n",
       "    <tr>\n",
       "      <th>22449</th>\n",
       "      <td>24.912961</td>\n",
       "    </tr>\n",
       "    <tr>\n",
       "      <th>...</th>\n",
       "      <td>...</td>\n",
       "    </tr>\n",
       "    <tr>\n",
       "      <th>36686</th>\n",
       "      <td>22.396147</td>\n",
       "    </tr>\n",
       "    <tr>\n",
       "      <th>36726</th>\n",
       "      <td>25.774349</td>\n",
       "    </tr>\n",
       "    <tr>\n",
       "      <th>36754</th>\n",
       "      <td>18.558763</td>\n",
       "    </tr>\n",
       "    <tr>\n",
       "      <th>36800</th>\n",
       "      <td>22.780606</td>\n",
       "    </tr>\n",
       "    <tr>\n",
       "      <th>36805</th>\n",
       "      <td>30.471120</td>\n",
       "    </tr>\n",
       "  </tbody>\n",
       "</table>\n",
       "<p>365 rows × 1 columns</p>\n",
       "</div>"
      ],
      "text/plain": [
       "                Speed\n",
       "VehicleNum           \n",
       "22334       22.069030\n",
       "22396       22.784794\n",
       "22413       86.000000\n",
       "22437       19.743369\n",
       "22449       24.912961\n",
       "...               ...\n",
       "36686       22.396147\n",
       "36726       25.774349\n",
       "36754       18.558763\n",
       "36800       22.780606\n",
       "36805       30.471120\n",
       "\n",
       "[365 rows x 1 columns]"
      ]
     },
     "execution_count": 69,
     "metadata": {},
     "output_type": "execute_result"
    }
   ],
   "source": [
    "data4=pd.DataFrame(data3)\n",
    "data4"
   ]
  },
  {
   "cell_type": "code",
   "execution_count": 77,
   "id": "8a8627d5",
   "metadata": {},
   "outputs": [
    {
     "data": {
      "text/plain": [
       "VehicleNum\n",
       "22334    (20, 30]\n",
       "22396    (20, 30]\n",
       "22413    (80, 90]\n",
       "22437    (10, 20]\n",
       "22449    (20, 30]\n",
       "           ...   \n",
       "36686    (20, 30]\n",
       "36726    (20, 30]\n",
       "36754    (10, 20]\n",
       "36800    (20, 30]\n",
       "36805    (30, 40]\n",
       "Name: Speed, Length: 365, dtype: category\n",
       "Categories (9, interval[int64, right]): [(0, 10] < (10, 20] < (20, 30] < (30, 40] ... (50, 60] < (60, 70] < (70, 80] < (80, 90]]"
      ]
     },
     "execution_count": 77,
     "metadata": {},
     "output_type": "execute_result"
    }
   ],
   "source": [
    "y=pd.cut(data4['Speed'],bins=[0,10,20,30,40,50,60,70,80,90])"
   ]
  },
  {
   "cell_type": "code",
   "execution_count": 78,
   "id": "96c88dfe",
   "metadata": {},
   "outputs": [
    {
     "data": {
      "text/plain": [
       "Speed\n",
       "(20, 30]    188\n",
       "(30, 40]    119\n",
       "(10, 20]     47\n",
       "(40, 50]      7\n",
       "(0, 10]       2\n",
       "(50, 60]      1\n",
       "(80, 90]      1\n",
       "(60, 70]      0\n",
       "(70, 80]      0\n",
       "Name: count, dtype: int64"
      ]
     },
     "execution_count": 78,
     "metadata": {},
     "output_type": "execute_result"
    }
   ],
   "source": [
    "dy=pd.value_counts(y)\n",
    "dy"
   ]
  },
  {
   "cell_type": "code",
   "execution_count": 79,
   "id": "80e0983c",
   "metadata": {},
   "outputs": [
    {
     "data": {
      "image/png": "[encoded data removed]",
      "text/plain": [
       "<Figure size 640x480 with 1 Axes>"
      ]
     },
     "metadata": {},
     "output_type": "display_data"
    }
   ],
   "source": [
    "plt.bar(dy.index.astype(str),dy)\n",
    "plt.show()"
   ]
  },
  {
   "cell_type": "code",
   "execution_count": 72,
   "id": "65e900c2",
   "metadata": {},
   "outputs": [
    {
     "data": {
      "text/plain": [
       "365"
      ]
     },
     "execution_count": 72,
     "metadata": {},
     "output_type": "execute_result"
    }
   ],
   "source": [
    "len(list(data2))"
   ]
  },
  {
   "cell_type": "code",
   "execution_count": null,
   "id": "0f401b91",
   "metadata": {},
   "outputs": [],
   "source": []
  },
  {
   "cell_type": "code",
   "execution_count": null,
   "id": "c7a42ab8",
   "metadata": {},
   "outputs": [],
   "source": []
  },
  {
   "cell_type": "code",
   "execution_count": null,
   "id": "60743aa7",
   "metadata": {},
   "outputs": [],
   "source": []
  },
  {
   "cell_type": "code",
   "execution_count": null,
   "id": "79ae7612",
   "metadata": {},
   "outputs": [],
   "source": []
  },
  {
   "cell_type": "code",
   "execution_count": null,
   "id": "76fe9fae",
   "metadata": {},
   "outputs": [],
   "source": []
  },
  {
   "cell_type": "code",
   "execution_count": null,
   "id": "48dc1314",
   "metadata": {},
   "outputs": [],
   "source": []
  },
  {
   "cell_type": "code",
   "execution_count": 28,
   "id": "191e86b8",
   "metadata": {},
   "outputs": [
    {
     "data": {
      "text/plain": [
       "VehicleNum         \n",
       "22334       1546885    (20.0, 30.0]\n",
       "            1546888    (10.0, 20.0]\n",
       "            1546890    (30.0, 40.0]\n",
       "            1546891             NaN\n",
       "            1546892             NaN\n",
       "                           ...     \n",
       "36805       459630     (70.0, 80.0]\n",
       "            459631     (50.0, 60.0]\n",
       "            459632              NaN\n",
       "            459633              NaN\n",
       "            459634     (20.0, 30.0]\n",
       "Name: Speed, Length: 670022, dtype: category\n",
       "Categories (9, interval[int64, right]): [(0, 10] < (10, 20] < (20, 30] < (30, 40] ... (50, 60] < (60, 70] < (70, 80] < (80, 90]]"
      ]
     },
     "execution_count": 28,
     "metadata": {},
     "output_type": "execute_result"
    }
   ],
   "source": [
    "x=data2['Speed']\n",
    "y=pd.cut(x,bins=[0,10,20,30,40,50,60,70,80,90])\n",
    "y"
   ]
  },
  {
   "cell_type": "code",
   "execution_count": 29,
   "id": "67fff710",
   "metadata": {},
   "outputs": [
    {
     "data": {
      "text/plain": [
       "VehicleNum         \n",
       "22334       1546885    (20, 30]\n",
       "            1546888    (10, 20]\n",
       "            1546890    (30, 40]\n",
       "            1546893    (50, 60]\n",
       "            1546894    (50, 60]\n",
       "                         ...   \n",
       "36805       459627     (20, 30]\n",
       "            459629     (60, 70]\n",
       "            459630     (70, 80]\n",
       "            459631     (50, 60]\n",
       "            459634     (20, 30]\n",
       "Name: Speed, Length: 492474, dtype: category\n",
       "Categories (9, interval[int64, right]): [(0, 10] < (10, 20] < (20, 30] < (30, 40] ... (50, 60] < (60, 70] < (70, 80] < (80, 90]]"
      ]
     },
     "execution_count": 29,
     "metadata": {},
     "output_type": "execute_result"
    }
   ],
   "source": [
    "y.dropna()"
   ]
  },
  {
   "cell_type": "code",
   "execution_count": null,
   "id": "ee415a59",
   "metadata": {},
   "outputs": [],
   "source": [
    "plt.bar(x,y, tick_label=[\n",
    "  \"0-10\", \"10-20\", \"20-30\",\"30-40\",\"40-50\",\"50-60\",\"60-70\",   \n",
    "  \"70-80\", \"80-90\"], width=0.3)\n",
    "plt.show()"
   ]
  },
  {
   "cell_type": "code",
   "execution_count": null,
   "id": "21c134e0",
   "metadata": {},
   "outputs": [],
   "source": []
  },
  {
   "cell_type": "code",
   "execution_count": null,
   "id": "55c82e3f",
   "metadata": {},
   "outputs": [],
   "source": []
  },
  {
   "cell_type": "code",
   "execution_count": null,
   "id": "645ab342",
   "metadata": {},
   "outputs": [],
   "source": []
  },
  {
   "cell_type": "code",
   "execution_count": null,
   "id": "7cd497cf",
   "metadata": {},
   "outputs": [],
   "source": []
  },
  {
   "cell_type": "code",
   "execution_count": null,
   "id": "9341a0ea",
   "metadata": {},
   "outputs": [],
   "source": []
  },
  {
   "cell_type": "code",
   "execution_count": null,
   "id": "20238c19",
   "metadata": {},
   "outputs": [],
   "source": []
  },
  {
   "cell_type": "code",
   "execution_count": 1,
   "id": "149d091f",
   "metadata": {},
   "outputs": [],
   "source": [
    "import pandas as pd\n",
    "import numpy as np\n",
    "import matplotlib. pyplot as plt"
   ]
  },
  {
   "cell_type": "code",
   "execution_count": 3,
   "id": "37bc078c",
   "metadata": {},
   "outputs": [
    {
     "data": {
      "text/html": [
       "<div>\n",
       "<style scoped>\n",
       "    .dataframe tbody tr th:only-of-type {\n",
       "        vertical-align: middle;\n",
       "    }\n",
       "\n",
       "    .dataframe tbody tr th {\n",
       "        vertical-align: top;\n",
       "    }\n",
       "\n",
       "    .dataframe thead th {\n",
       "        text-align: right;\n",
       "    }\n",
       "</style>\n",
       "<table border=\"1\" class=\"dataframe\">\n",
       "  <thead>\n",
       "    <tr style=\"text-align: right;\">\n",
       "      <th></th>\n",
       "      <th>speed</th>\n",
       "      <th>count</th>\n",
       "    </tr>\n",
       "  </thead>\n",
       "  <tbody>\n",
       "    <tr>\n",
       "      <th>0</th>\n",
       "      <td>0-10</td>\n",
       "      <td>1890</td>\n",
       "    </tr>\n",
       "    <tr>\n",
       "      <th>1</th>\n",
       "      <td>10-15</td>\n",
       "      <td>2500</td>\n",
       "    </tr>\n",
       "    <tr>\n",
       "      <th>2</th>\n",
       "      <td>15-25</td>\n",
       "      <td>2300</td>\n",
       "    </tr>\n",
       "    <tr>\n",
       "      <th>3</th>\n",
       "      <td>25以上</td>\n",
       "      <td>1800</td>\n",
       "    </tr>\n",
       "  </tbody>\n",
       "</table>\n",
       "</div>"
      ],
      "text/plain": [
       "   speed  count\n",
       "0   0-10   1890\n",
       "1  10-15   2500\n",
       "2  15-25   2300\n",
       "3   25以上   1800"
      ]
     },
     "execution_count": 3,
     "metadata": {},
     "output_type": "execute_result"
    }
   ],
   "source": [
    "df=pd.read_csv(r\"D:\\experiment202401\\1.阶段1教学资料\\阶段1：项目需求分析\\1.数据源\\speed.csv\")\n",
    "df"
   ]
  },
  {
   "cell_type": "code",
   "execution_count": 10,
   "id": "8389603a",
   "metadata": {},
   "outputs": [],
   "source": [
    "x=df['speed'].str.replace(\"25以上\",\">25\")\n",
    "y=df['count']"
   ]
  },
  {
   "cell_type": "code",
   "execution_count": 11,
   "id": "c2a896eb",
   "metadata": {},
   "outputs": [
    {
     "data": {
      "image/png": "[encoded data removed]",
      "text/plain": [
       "<Figure size 640x480 with 1 Axes>"
      ]
     },
     "metadata": {},
     "output_type": "display_data"
    }
   ],
   "source": [
    "fig=plt.figure()\n",
    "plt.subplot(1,1,1)\n",
    "plt.bar(x,y)\n",
    "plt.show()"
   ]
  },
  {
   "cell_type": "code",
   "execution_count": null,
   "id": "ff9c5d45",
   "metadata": {},
   "outputs": [],
   "source": []
  }
 ],
 "metadata": {
  "kernelspec": {
   "display_name": "Python 3 (ipykernel)",
   "language": "python",
   "name": "python3"
  },
  "language_info": {
   "codemirror_mode": {
    "name": "ipython",
    "version": 3
   },
   "file_extension": ".py",
   "mimetype": "text/x-python",
   "name": "python",
   "nbconvert_exporter": "python",
   "pygments_lexer": "ipython3",
   "version": "3.11.5"
  }
 },
 "nbformat": 4,
 "nbformat_minor": 5
}
