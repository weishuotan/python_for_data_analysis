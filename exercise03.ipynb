{
 "cells": [
  {
   "cell_type": "code",
   "execution_count": 2,
   "id": "8d0c5461",
   "metadata": {},
   "outputs": [
    {
     "ename": "NonexistentCoordinatesException",
     "evalue": "当前地点: (114.057419, 22.537617) 坐标不存在, 错误原因: cannot unpack non-iterable NoneType object",
     "output_type": "error",
     "traceback": [
      "\u001b[1;31m---------------------------------------------------------------------------\u001b[0m",
      "\u001b[1;31mTypeError\u001b[0m                                 Traceback (most recent call last)",
      "File \u001b[1;32m~\\AppData\\Roaming\\Python\\Python311\\site-packages\\pyecharts\\charts\\basic_charts\\geo.py:261\u001b[0m, in \u001b[0;36mGeo._feed_data\u001b[1;34m(self, data_pair, type_)\u001b[0m\n\u001b[0;32m    260\u001b[0m \u001b[38;5;28;01melse\u001b[39;00m:\n\u001b[1;32m--> 261\u001b[0m     lng, lat \u001b[38;5;241m=\u001b[39m \u001b[38;5;28mself\u001b[39m\u001b[38;5;241m.\u001b[39mget_coordinate(n)\n\u001b[0;32m    262\u001b[0m     result\u001b[38;5;241m.\u001b[39mappend({\u001b[38;5;124m\"\u001b[39m\u001b[38;5;124mname\u001b[39m\u001b[38;5;124m\"\u001b[39m: n, \u001b[38;5;124m\"\u001b[39m\u001b[38;5;124mvalue\u001b[39m\u001b[38;5;124m\"\u001b[39m: [lng, lat, v]})\n",
      "\u001b[1;31mTypeError\u001b[0m: cannot unpack non-iterable NoneType object",
      "\nDuring handling of the above exception, another exception occurred:\n",
      "\u001b[1;31mNonexistentCoordinatesException\u001b[0m           Traceback (most recent call last)",
      "Cell \u001b[1;32mIn[2], line 25\u001b[0m\n\u001b[0;32m     22\u001b[0m geo_start \u001b[38;5;241m=\u001b[39m Geo(init_opts\u001b[38;5;241m=\u001b[39mopts\u001b[38;5;241m.\u001b[39mInitOpts(width\u001b[38;5;241m=\u001b[39m\u001b[38;5;124m\"\u001b[39m\u001b[38;5;124m800px\u001b[39m\u001b[38;5;124m\"\u001b[39m, height\u001b[38;5;241m=\u001b[39m\u001b[38;5;124m\"\u001b[39m\u001b[38;5;124m600px\u001b[39m\u001b[38;5;124m\"\u001b[39m))\n\u001b[0;32m     23\u001b[0m geo_start\u001b[38;5;241m.\u001b[39madd_schema(maptype\u001b[38;5;241m=\u001b[39m\u001b[38;5;124m\"\u001b[39m\u001b[38;5;124m深圳\u001b[39m\u001b[38;5;124m\"\u001b[39m)\n\u001b[1;32m---> 25\u001b[0m geo_start\u001b[38;5;241m.\u001b[39madd(\u001b[38;5;124m\"\u001b[39m\u001b[38;5;124m上车位置\u001b[39m\u001b[38;5;124m\"\u001b[39m, [\u001b[38;5;28mlist\u001b[39m(z) \u001b[38;5;28;01mfor\u001b[39;00m z \u001b[38;5;129;01min\u001b[39;00m \u001b[38;5;28mzip\u001b[39m(start_points[\u001b[38;5;124m'\u001b[39m\u001b[38;5;124mSLng\u001b[39m\u001b[38;5;124m'\u001b[39m], start_points[\u001b[38;5;124m'\u001b[39m\u001b[38;5;124mSLat\u001b[39m\u001b[38;5;124m'\u001b[39m])], type_\u001b[38;5;241m=\u001b[39m\u001b[38;5;124m'\u001b[39m\u001b[38;5;124mscatter\u001b[39m\u001b[38;5;124m'\u001b[39m, symbol_size\u001b[38;5;241m=\u001b[39m\u001b[38;5;241m5\u001b[39m)\n\u001b[0;32m     27\u001b[0m geo_start\u001b[38;5;241m.\u001b[39mset_series_opts(label_opts\u001b[38;5;241m=\u001b[39mopts\u001b[38;5;241m.\u001b[39mLabelOpts(is_show\u001b[38;5;241m=\u001b[39m\u001b[38;5;28;01mFalse\u001b[39;00m))\n\u001b[0;32m     28\u001b[0m geo_start\u001b[38;5;241m.\u001b[39mset_global_opts(visualmap_opts\u001b[38;5;241m=\u001b[39mopts\u001b[38;5;241m.\u001b[39mVisualMapOpts(),\n\u001b[0;32m     29\u001b[0m                           title_opts\u001b[38;5;241m=\u001b[39mopts\u001b[38;5;241m.\u001b[39mTitleOpts(title\u001b[38;5;241m=\u001b[39m\u001b[38;5;124mf\u001b[39m\u001b[38;5;124m\"\u001b[39m\u001b[38;5;132;01m{\u001b[39;00mstart_time\u001b[38;5;132;01m}\u001b[39;00m\u001b[38;5;124m ~ \u001b[39m\u001b[38;5;132;01m{\u001b[39;00mend_time\u001b[38;5;132;01m}\u001b[39;00m\u001b[38;5;124m的上车位置分布\u001b[39m\u001b[38;5;124m\"\u001b[39m))\n",
      "File \u001b[1;32m~\\AppData\\Roaming\\Python\\Python311\\site-packages\\pyecharts\\charts\\basic_charts\\geo.py:71\u001b[0m, in \u001b[0;36mGeoChartBase.add\u001b[1;34m(self, series_name, data_pair, type_, symbol, symbol_size, blur_size, point_size, radius, color, is_polyline, is_large, large_threshold, progressive, progressive_threshold, label_opts, effect_opts, linestyle_opts, tooltip_opts, itemstyle_opts, render_item, encode)\u001b[0m\n\u001b[0;32m     45\u001b[0m \u001b[38;5;28;01mdef\u001b[39;00m \u001b[38;5;21madd\u001b[39m(\n\u001b[0;32m     46\u001b[0m     \u001b[38;5;28mself\u001b[39m,\n\u001b[0;32m     47\u001b[0m     series_name: \u001b[38;5;28mstr\u001b[39m,\n\u001b[1;32m   (...)\u001b[0m\n\u001b[0;32m     68\u001b[0m     encode: types\u001b[38;5;241m.\u001b[39mUnion[types\u001b[38;5;241m.\u001b[39mJsCode, \u001b[38;5;28mdict\u001b[39m] \u001b[38;5;241m=\u001b[39m \u001b[38;5;28;01mNone\u001b[39;00m,\n\u001b[0;32m     69\u001b[0m ):\n\u001b[0;32m     70\u001b[0m     \u001b[38;5;28mself\u001b[39m\u001b[38;5;241m.\u001b[39m_zlevel \u001b[38;5;241m+\u001b[39m\u001b[38;5;241m=\u001b[39m \u001b[38;5;241m1\u001b[39m\n\u001b[1;32m---> 71\u001b[0m     data \u001b[38;5;241m=\u001b[39m \u001b[38;5;28mself\u001b[39m\u001b[38;5;241m.\u001b[39m_feed_data(data_pair, type_) \u001b[38;5;28;01mif\u001b[39;00m data_pair \u001b[38;5;28;01melse\u001b[39;00m data_pair\n\u001b[0;32m     73\u001b[0m     \u001b[38;5;28mself\u001b[39m\u001b[38;5;241m.\u001b[39m_append_color(color)\n\u001b[0;32m     74\u001b[0m     \u001b[38;5;28mself\u001b[39m\u001b[38;5;241m.\u001b[39m_append_legend(series_name)\n",
      "File \u001b[1;32m~\\AppData\\Roaming\\Python\\Python311\\site-packages\\pyecharts\\charts\\basic_charts\\geo.py:265\u001b[0m, in \u001b[0;36mGeo._feed_data\u001b[1;34m(self, data_pair, type_)\u001b[0m\n\u001b[0;32m    263\u001b[0m     \u001b[38;5;28;01mexcept\u001b[39;00m \u001b[38;5;167;01mTypeError\u001b[39;00m \u001b[38;5;28;01mas\u001b[39;00m err:\n\u001b[0;32m    264\u001b[0m         \u001b[38;5;28;01mif\u001b[39;00m \u001b[38;5;28mself\u001b[39m\u001b[38;5;241m.\u001b[39m_is_ignore_nonexistent_coord \u001b[38;5;129;01mis\u001b[39;00m \u001b[38;5;129;01mnot\u001b[39;00m \u001b[38;5;28;01mTrue\u001b[39;00m:\n\u001b[1;32m--> 265\u001b[0m             \u001b[38;5;28;01mraise\u001b[39;00m NonexistentCoordinatesException(err, (n, v))\n\u001b[0;32m    266\u001b[0m \u001b[38;5;28;01mreturn\u001b[39;00m result\n",
      "\u001b[1;31mNonexistentCoordinatesException\u001b[0m: 当前地点: (114.057419, 22.537617) 坐标不存在, 错误原因: cannot unpack non-iterable NoneType object"
     ]
    }
   ],
   "source": [
    "from pyecharts.charts import Geo\n",
    "from pyecharts import options as opts\n",
    "import pandas as pd\n",
    "\n",
    "# 加载数据\n",
    "data = pd.read_csv('./data/Taxi_clean_data.csv')\n",
    "\n",
    "# 选择感兴趣的高峰时间段\n",
    "start_time = '08:00:00'  # 选择起始时间\n",
    "end_time = '09:00:00'    # 选择终止时间\n",
    "\n",
    "peak_data = data[(data['Stime'] >= start_time) & (data['Stime'] < end_time)]\n",
    "\n",
    "# 过滤掉缺失值或非法值\n",
    "peak_data = peak_data.dropna(subset=['SLng', 'SLat', 'ELng', 'ELat'])  # 删除包含缺失值的行\n",
    "\n",
    "# 提取上车点和下车点的数据\n",
    "start_points = peak_data[['SLng', 'SLat']]  # 上车点的经纬度\n",
    "end_points = peak_data[['ELng', 'ELat']]    # 下车点的经纬度\n",
    "\n",
    "# 创建上车位置在地图上的分布图\n",
    "geo_start = Geo(init_opts=opts.InitOpts(width=\"800px\", height=\"600px\"))\n",
    "geo_start.add_schema(maptype=\"深圳\")\n",
    "\n",
    "geo_start.add(\"上车位置\", [list(z) for z in zip(start_points['SLng'], start_points['SLat'])], type_='scatter', symbol_size=5)\n",
    "\n",
    "geo_start.set_series_opts(label_opts=opts.LabelOpts(is_show=False))\n",
    "geo_start.set_global_opts(visualmap_opts=opts.VisualMapOpts(),\n",
    "                          title_opts=opts.TitleOpts(title=f\"{start_time} ~ {end_time}的上车位置分布\"))\n",
    "\n",
    "\n",
    "geo_start.render(\"peak_time_start_map.html\")"
   ]
  },
  {
   "cell_type": "code",
   "execution_count": 3,
   "id": "7cada224",
   "metadata": {},
   "outputs": [
    {
     "ename": "NonexistentCoordinatesException",
     "evalue": "当前地点: (114.057419, 22.537617) 坐标不存在, 错误原因: cannot unpack non-iterable NoneType object",
     "output_type": "error",
     "traceback": [
      "\u001b[1;31m---------------------------------------------------------------------------\u001b[0m",
      "\u001b[1;31mTypeError\u001b[0m                                 Traceback (most recent call last)",
      "File \u001b[1;32m~\\AppData\\Roaming\\Python\\Python311\\site-packages\\pyecharts\\charts\\basic_charts\\geo.py:261\u001b[0m, in \u001b[0;36mGeo._feed_data\u001b[1;34m(self, data_pair, type_)\u001b[0m\n\u001b[0;32m    260\u001b[0m \u001b[38;5;28;01melse\u001b[39;00m:\n\u001b[1;32m--> 261\u001b[0m     lng, lat \u001b[38;5;241m=\u001b[39m \u001b[38;5;28mself\u001b[39m\u001b[38;5;241m.\u001b[39mget_coordinate(n)\n\u001b[0;32m    262\u001b[0m     result\u001b[38;5;241m.\u001b[39mappend({\u001b[38;5;124m\"\u001b[39m\u001b[38;5;124mname\u001b[39m\u001b[38;5;124m\"\u001b[39m: n, \u001b[38;5;124m\"\u001b[39m\u001b[38;5;124mvalue\u001b[39m\u001b[38;5;124m\"\u001b[39m: [lng, lat, v]})\n",
      "\u001b[1;31mTypeError\u001b[0m: cannot unpack non-iterable NoneType object",
      "\nDuring handling of the above exception, another exception occurred:\n",
      "\u001b[1;31mNonexistentCoordinatesException\u001b[0m           Traceback (most recent call last)",
      "Cell \u001b[1;32mIn[3], line 1\u001b[0m\n\u001b[1;32m----> 1\u001b[0m geo_start\u001b[38;5;241m.\u001b[39madd(\u001b[38;5;124m\"\u001b[39m\u001b[38;5;124m上车位置\u001b[39m\u001b[38;5;124m\"\u001b[39m, [\u001b[38;5;28mlist\u001b[39m(z) \u001b[38;5;28;01mfor\u001b[39;00m z \u001b[38;5;129;01min\u001b[39;00m \u001b[38;5;28mzip\u001b[39m(start_points[\u001b[38;5;124m'\u001b[39m\u001b[38;5;124mSLng\u001b[39m\u001b[38;5;124m'\u001b[39m], start_points[\u001b[38;5;124m'\u001b[39m\u001b[38;5;124mSLat\u001b[39m\u001b[38;5;124m'\u001b[39m])], type_\u001b[38;5;241m=\u001b[39m\u001b[38;5;124m'\u001b[39m\u001b[38;5;124mscatter\u001b[39m\u001b[38;5;124m'\u001b[39m, symbol_size\u001b[38;5;241m=\u001b[39m\u001b[38;5;241m5\u001b[39m)\n\u001b[0;32m      2\u001b[0m geo_start\u001b[38;5;241m.\u001b[39mset_series_opts(label_opts\u001b[38;5;241m=\u001b[39mopts\u001b[38;5;241m.\u001b[39mLabelOpts(is_show\u001b[38;5;241m=\u001b[39m\u001b[38;5;28;01mFalse\u001b[39;00m))\n\u001b[0;32m      3\u001b[0m geo_start\u001b[38;5;241m.\u001b[39mset_global_opts(visualmap_opts\u001b[38;5;241m=\u001b[39mopts\u001b[38;5;241m.\u001b[39mVisualMapOpts(),\n\u001b[0;32m      4\u001b[0m                           title_opts\u001b[38;5;241m=\u001b[39mopts\u001b[38;5;241m.\u001b[39mTitleOpts(title\u001b[38;5;241m=\u001b[39m\u001b[38;5;124mf\u001b[39m\u001b[38;5;124m\"\u001b[39m\u001b[38;5;132;01m{\u001b[39;00mstart_time\u001b[38;5;132;01m}\u001b[39;00m\u001b[38;5;124m ~ \u001b[39m\u001b[38;5;132;01m{\u001b[39;00mend_time\u001b[38;5;132;01m}\u001b[39;00m\u001b[38;5;124m的上车位置分布\u001b[39m\u001b[38;5;124m\"\u001b[39m))\n",
      "File \u001b[1;32m~\\AppData\\Roaming\\Python\\Python311\\site-packages\\pyecharts\\charts\\basic_charts\\geo.py:71\u001b[0m, in \u001b[0;36mGeoChartBase.add\u001b[1;34m(self, series_name, data_pair, type_, symbol, symbol_size, blur_size, point_size, radius, color, is_polyline, is_large, large_threshold, progressive, progressive_threshold, label_opts, effect_opts, linestyle_opts, tooltip_opts, itemstyle_opts, render_item, encode)\u001b[0m\n\u001b[0;32m     45\u001b[0m \u001b[38;5;28;01mdef\u001b[39;00m \u001b[38;5;21madd\u001b[39m(\n\u001b[0;32m     46\u001b[0m     \u001b[38;5;28mself\u001b[39m,\n\u001b[0;32m     47\u001b[0m     series_name: \u001b[38;5;28mstr\u001b[39m,\n\u001b[1;32m   (...)\u001b[0m\n\u001b[0;32m     68\u001b[0m     encode: types\u001b[38;5;241m.\u001b[39mUnion[types\u001b[38;5;241m.\u001b[39mJsCode, \u001b[38;5;28mdict\u001b[39m] \u001b[38;5;241m=\u001b[39m \u001b[38;5;28;01mNone\u001b[39;00m,\n\u001b[0;32m     69\u001b[0m ):\n\u001b[0;32m     70\u001b[0m     \u001b[38;5;28mself\u001b[39m\u001b[38;5;241m.\u001b[39m_zlevel \u001b[38;5;241m+\u001b[39m\u001b[38;5;241m=\u001b[39m \u001b[38;5;241m1\u001b[39m\n\u001b[1;32m---> 71\u001b[0m     data \u001b[38;5;241m=\u001b[39m \u001b[38;5;28mself\u001b[39m\u001b[38;5;241m.\u001b[39m_feed_data(data_pair, type_) \u001b[38;5;28;01mif\u001b[39;00m data_pair \u001b[38;5;28;01melse\u001b[39;00m data_pair\n\u001b[0;32m     73\u001b[0m     \u001b[38;5;28mself\u001b[39m\u001b[38;5;241m.\u001b[39m_append_color(color)\n\u001b[0;32m     74\u001b[0m     \u001b[38;5;28mself\u001b[39m\u001b[38;5;241m.\u001b[39m_append_legend(series_name)\n",
      "File \u001b[1;32m~\\AppData\\Roaming\\Python\\Python311\\site-packages\\pyecharts\\charts\\basic_charts\\geo.py:265\u001b[0m, in \u001b[0;36mGeo._feed_data\u001b[1;34m(self, data_pair, type_)\u001b[0m\n\u001b[0;32m    263\u001b[0m     \u001b[38;5;28;01mexcept\u001b[39;00m \u001b[38;5;167;01mTypeError\u001b[39;00m \u001b[38;5;28;01mas\u001b[39;00m err:\n\u001b[0;32m    264\u001b[0m         \u001b[38;5;28;01mif\u001b[39;00m \u001b[38;5;28mself\u001b[39m\u001b[38;5;241m.\u001b[39m_is_ignore_nonexistent_coord \u001b[38;5;129;01mis\u001b[39;00m \u001b[38;5;129;01mnot\u001b[39;00m \u001b[38;5;28;01mTrue\u001b[39;00m:\n\u001b[1;32m--> 265\u001b[0m             \u001b[38;5;28;01mraise\u001b[39;00m NonexistentCoordinatesException(err, (n, v))\n\u001b[0;32m    266\u001b[0m \u001b[38;5;28;01mreturn\u001b[39;00m result\n",
      "\u001b[1;31mNonexistentCoordinatesException\u001b[0m: 当前地点: (114.057419, 22.537617) 坐标不存在, 错误原因: cannot unpack non-iterable NoneType object"
     ]
    }
   ],
   "source": [
    "geo_start.add(\"上车位置\", [list(z) for z in zip(start_points['SLng'], start_points['SLat'])], type_='scatter', symbol_size=5)\n",
    "geo_start.set_series_opts(label_opts=opts.LabelOpts(is_show=False))\n",
    "geo_start.set_global_opts(visualmap_opts=opts.VisualMapOpts(),\n",
    "                          title_opts=opts.TitleOpts(title=f\"{start_time} ~ {end_time}的上车位置分布\"))\n",
    "\n",
    "# 创建下车位置在地图上的分布图\n",
    "geo_end = Geo(init_opts=opts.InitOpts(width=\"800px\", height=\"600px\"))\n",
    "geo_end.add_schema(maptype=\"广州\")\n",
    "geo_end.add(\"下车位置\", [list(z) for z in zip(end_points['ELng'], end_points['ELat'])], type_='scatter', symbol_size=5)\n",
    "geo_end.set_series_opts(label_opts=opts.LabelOpts(is_show=False))\n",
    "geo_end.set_global_opts(visualmap_opts=opts.VisualMapOpts(), \n",
    "                        title_opts=opts.TitleOpts(title=f\"{start_time} ~ {end_time}的下车位置分布\"))\n",
    "\n",
    "# 渲染生成html文件\n",
    "geo_start.render(\"peak_time_start_map.html\")\n",
    "geo_end.render(\"peak_time_end_map.html\")\n",
    "\n",
    "#22334,08:22:04,114.063416,22.525984,114.05378,22.535433,08:30:27"
   ]
  },
  {
   "cell_type": "code",
   "execution_count": 28,
   "id": "106a7fcd",
   "metadata": {},
   "outputs": [
    {
     "ename": "NonexistentCoordinatesException",
     "evalue": "当前地点: (114.06667, 22.54893) 坐标不存在, 错误原因: cannot unpack non-iterable NoneType object",
     "output_type": "error",
     "traceback": [
      "\u001b[1;31m---------------------------------------------------------------------------\u001b[0m",
      "\u001b[1;31mTypeError\u001b[0m                                 Traceback (most recent call last)",
      "File \u001b[1;32m~\\AppData\\Roaming\\Python\\Python311\\site-packages\\pyecharts\\charts\\basic_charts\\geo.py:261\u001b[0m, in \u001b[0;36mGeo._feed_data\u001b[1;34m(self, data_pair, type_)\u001b[0m\n\u001b[0;32m    260\u001b[0m \u001b[38;5;28;01melse\u001b[39;00m:\n\u001b[1;32m--> 261\u001b[0m     lng, lat \u001b[38;5;241m=\u001b[39m \u001b[38;5;28mself\u001b[39m\u001b[38;5;241m.\u001b[39mget_coordinate(n)\n\u001b[0;32m    262\u001b[0m     result\u001b[38;5;241m.\u001b[39mappend({\u001b[38;5;124m\"\u001b[39m\u001b[38;5;124mname\u001b[39m\u001b[38;5;124m\"\u001b[39m: n, \u001b[38;5;124m\"\u001b[39m\u001b[38;5;124mvalue\u001b[39m\u001b[38;5;124m\"\u001b[39m: [lng, lat, v]})\n",
      "\u001b[1;31mTypeError\u001b[0m: cannot unpack non-iterable NoneType object",
      "\nDuring handling of the above exception, another exception occurred:\n",
      "\u001b[1;31mNonexistentCoordinatesException\u001b[0m           Traceback (most recent call last)",
      "Cell \u001b[1;32mIn[28], line 11\u001b[0m\n\u001b[0;32m      9\u001b[0m lng \u001b[38;5;241m=\u001b[39m \u001b[38;5;241m114.06667\u001b[39m  \u001b[38;5;66;03m# 经度\u001b[39;00m\n\u001b[0;32m     10\u001b[0m lat \u001b[38;5;241m=\u001b[39m \u001b[38;5;241m22.54893\u001b[39m   \u001b[38;5;66;03m# 纬度\u001b[39;00m\n\u001b[1;32m---> 11\u001b[0m geo\u001b[38;5;241m.\u001b[39madd(\u001b[38;5;124m\"\u001b[39m\u001b[38;5;124m标记点\u001b[39m\u001b[38;5;124m\"\u001b[39m, [(lng, lat)], type_\u001b[38;5;241m=\u001b[39m\u001b[38;5;124m'\u001b[39m\u001b[38;5;124mscatter\u001b[39m\u001b[38;5;124m'\u001b[39m, symbol_size\u001b[38;5;241m=\u001b[39m\u001b[38;5;241m10\u001b[39m)  \u001b[38;5;66;03m# 标记经纬度点\u001b[39;00m\n\u001b[0;32m     13\u001b[0m \u001b[38;5;66;03m# 设置全局配置\u001b[39;00m\n\u001b[0;32m     14\u001b[0m geo\u001b[38;5;241m.\u001b[39mset_series_opts(label_opts\u001b[38;5;241m=\u001b[39mopts\u001b[38;5;241m.\u001b[39mLabelOpts(is_show\u001b[38;5;241m=\u001b[39m\u001b[38;5;28;01mFalse\u001b[39;00m))  \u001b[38;5;66;03m# 不显示点的标签\u001b[39;00m\n",
      "File \u001b[1;32m~\\AppData\\Roaming\\Python\\Python311\\site-packages\\pyecharts\\charts\\basic_charts\\geo.py:71\u001b[0m, in \u001b[0;36mGeoChartBase.add\u001b[1;34m(self, series_name, data_pair, type_, symbol, symbol_size, blur_size, point_size, radius, color, is_polyline, is_large, large_threshold, progressive, progressive_threshold, label_opts, effect_opts, linestyle_opts, tooltip_opts, itemstyle_opts, render_item, encode)\u001b[0m\n\u001b[0;32m     45\u001b[0m \u001b[38;5;28;01mdef\u001b[39;00m \u001b[38;5;21madd\u001b[39m(\n\u001b[0;32m     46\u001b[0m     \u001b[38;5;28mself\u001b[39m,\n\u001b[0;32m     47\u001b[0m     series_name: \u001b[38;5;28mstr\u001b[39m,\n\u001b[1;32m   (...)\u001b[0m\n\u001b[0;32m     68\u001b[0m     encode: types\u001b[38;5;241m.\u001b[39mUnion[types\u001b[38;5;241m.\u001b[39mJsCode, \u001b[38;5;28mdict\u001b[39m] \u001b[38;5;241m=\u001b[39m \u001b[38;5;28;01mNone\u001b[39;00m,\n\u001b[0;32m     69\u001b[0m ):\n\u001b[0;32m     70\u001b[0m     \u001b[38;5;28mself\u001b[39m\u001b[38;5;241m.\u001b[39m_zlevel \u001b[38;5;241m+\u001b[39m\u001b[38;5;241m=\u001b[39m \u001b[38;5;241m1\u001b[39m\n\u001b[1;32m---> 71\u001b[0m     data \u001b[38;5;241m=\u001b[39m \u001b[38;5;28mself\u001b[39m\u001b[38;5;241m.\u001b[39m_feed_data(data_pair, type_) \u001b[38;5;28;01mif\u001b[39;00m data_pair \u001b[38;5;28;01melse\u001b[39;00m data_pair\n\u001b[0;32m     73\u001b[0m     \u001b[38;5;28mself\u001b[39m\u001b[38;5;241m.\u001b[39m_append_color(color)\n\u001b[0;32m     74\u001b[0m     \u001b[38;5;28mself\u001b[39m\u001b[38;5;241m.\u001b[39m_append_legend(series_name)\n",
      "File \u001b[1;32m~\\AppData\\Roaming\\Python\\Python311\\site-packages\\pyecharts\\charts\\basic_charts\\geo.py:265\u001b[0m, in \u001b[0;36mGeo._feed_data\u001b[1;34m(self, data_pair, type_)\u001b[0m\n\u001b[0;32m    263\u001b[0m     \u001b[38;5;28;01mexcept\u001b[39;00m \u001b[38;5;167;01mTypeError\u001b[39;00m \u001b[38;5;28;01mas\u001b[39;00m err:\n\u001b[0;32m    264\u001b[0m         \u001b[38;5;28;01mif\u001b[39;00m \u001b[38;5;28mself\u001b[39m\u001b[38;5;241m.\u001b[39m_is_ignore_nonexistent_coord \u001b[38;5;129;01mis\u001b[39;00m \u001b[38;5;129;01mnot\u001b[39;00m \u001b[38;5;28;01mTrue\u001b[39;00m:\n\u001b[1;32m--> 265\u001b[0m             \u001b[38;5;28;01mraise\u001b[39;00m NonexistentCoordinatesException(err, (n, v))\n\u001b[0;32m    266\u001b[0m \u001b[38;5;28;01mreturn\u001b[39;00m result\n",
      "\u001b[1;31mNonexistentCoordinatesException\u001b[0m: 当前地点: (114.06667, 22.54893) 坐标不存在, 错误原因: cannot unpack non-iterable NoneType object"
     ]
    }
   ],
   "source": [
    "from pyecharts.charts import Geo\n",
    "from pyecharts import options as opts\n",
    "\n",
    "# 创建 Geo 图\n",
    "geo = Geo(init_opts=opts.InitOpts(width=\"800px\", height=\"600px\"))  # 指定图的宽度和高度\n",
    "geo.add_schema(maptype=\"深圳\")  # 选择深圳市地图\n",
    "\n",
    "# 添加经纬度点\n",
    "lng = 114.06667  # 经度\n",
    "lat = 22.54893   # 纬度\n",
    "geo.add(\"标记点\", [(lng, lat)], type_='scatter', symbol_size=10)  # 标记经纬度点\n",
    "\n",
    "# 设置全局配置\n",
    "geo.set_series_opts(label_opts=opts.LabelOpts(is_show=False))  # 不显示点的标签\n",
    "geo.set_global_opts(visualmap_opts=opts.VisualMapOpts(),  # 设置视觉映射配置\n",
    "                    title_opts=opts.TitleOpts(title=\"深圳市地图标记\"))  # 设置图的标题\n",
    "\n",
    "# 生成 html 文件\n",
    "geo.render(\"shenzhen_map.html\")"
   ]
  },
  {
   "cell_type": "code",
   "execution_count": 31,
   "id": "fb16b152",
   "metadata": {},
   "outputs": [
    {
     "name": "stdout",
     "output_type": "stream",
     "text": [
      "Defaulting to user installation because normal site-packages is not writeable\n",
      "Looking in indexes: https://mirrors.aliyun.com/pypi/simple\n",
      "Collecting folium\n",
      "  Downloading https://mirrors.aliyun.com/pypi/packages/ae/6d/18a7546e1748ecdd6ed7cd00d3f183faf1df08bd4f5e5e0eb3e72458b862/folium-0.17.0-py2.py3-none-any.whl (108 kB)\n",
      "     ---------------------------------------- 0.0/108.4 kB ? eta -:--:--\n",
      "     --- ------------------------------------ 10.2/108.4 kB ? eta -:--:--\n",
      "     ---------- -------------------------- 30.7/108.4 kB 435.7 kB/s eta 0:00:01\n",
      "     ------------- ----------------------- 41.0/108.4 kB 326.8 kB/s eta 0:00:01\n",
      "     ----------------- ------------------- 51.2/108.4 kB 262.6 kB/s eta 0:00:01\n",
      "     -------------------- ---------------- 61.4/108.4 kB 252.2 kB/s eta 0:00:01\n",
      "     -------------------- ---------------- 61.4/108.4 kB 252.2 kB/s eta 0:00:01\n",
      "     ------------------------ ------------ 71.7/108.4 kB 231.0 kB/s eta 0:00:01\n",
      "     --------------------------- --------- 81.9/108.4 kB 229.7 kB/s eta 0:00:01\n",
      "     ------------------------------- ----- 92.2/108.4 kB 228.2 kB/s eta 0:00:01\n",
      "     ---------------------------------- - 102.4/108.4 kB 227.0 kB/s eta 0:00:01\n",
      "     ------------------------------------ 108.4/108.4 kB 216.7 kB/s eta 0:00:00\n",
      "Collecting branca>=0.6.0 (from folium)\n",
      "  Downloading https://mirrors.aliyun.com/pypi/packages/75/ca/6074ab4a04dd1a503201c18091b3426f3709670115fae316907a97f98d75/branca-0.7.2-py3-none-any.whl (25 kB)\n",
      "Requirement already satisfied: jinja2>=2.9 in d:\\anaconda_files\\lib\\site-packages (from folium) (3.1.2)\n",
      "Requirement already satisfied: numpy in d:\\anaconda_files\\lib\\site-packages (from folium) (1.24.3)\n",
      "Requirement already satisfied: requests in d:\\anaconda_files\\lib\\site-packages (from folium) (2.31.0)\n",
      "Requirement already satisfied: xyzservices in d:\\anaconda_files\\lib\\site-packages (from folium) (2022.9.0)\n",
      "Requirement already satisfied: MarkupSafe>=2.0 in d:\\anaconda_files\\lib\\site-packages (from jinja2>=2.9->folium) (2.1.1)\n",
      "Requirement already satisfied: charset-normalizer<4,>=2 in d:\\anaconda_files\\lib\\site-packages (from requests->folium) (2.0.4)\n",
      "Requirement already satisfied: idna<4,>=2.5 in d:\\anaconda_files\\lib\\site-packages (from requests->folium) (3.4)\n",
      "Requirement already satisfied: urllib3<3,>=1.21.1 in d:\\anaconda_files\\lib\\site-packages (from requests->folium) (1.26.16)\n",
      "Requirement already satisfied: certifi>=2017.4.17 in d:\\anaconda_files\\lib\\site-packages (from requests->folium) (2023.7.22)\n",
      "Installing collected packages: branca, folium\n",
      "Successfully installed branca-0.7.2 folium-0.17.0\n",
      "Note: you may need to restart the kernel to use updated packages.\n"
     ]
    }
   ],
   "source": [
    "pip install folium"
   ]
  },
  {
   "cell_type": "code",
   "execution_count": 4,
   "id": "6d06d01b",
   "metadata": {},
   "outputs": [],
   "source": [
    "import folium  \n",
    "  \n",
    "# 创建地图对象，指定中心坐标和缩放级别  \n",
    "m = folium.Map(location=[39.9042, 116.4074], zoom_start=10)  \n",
    "  \n",
    "# 添加一个点标记  \n",
    "folium.Marker(location=[39.9042, 116.4074], popup='北京天安门').add_to(m)  \n",
    "  \n",
    "# 保存地图为HTML文件  \n",
    "m.save('beijing_map.png')"
   ]
  },
  {
   "cell_type": "code",
   "execution_count": 5,
   "id": "7f2e4a4e",
   "metadata": {},
   "outputs": [
    {
     "name": "stderr",
     "output_type": "stream",
     "text": [
      "C:\\Users\\86139\\AppData\\Local\\Temp\\ipykernel_20516\\435736147.py:15: UserWarning: Could not infer format, so each element will be parsed individually, falling back to `dateutil`. To ensure parsing is consistent and as-expected, please specify a format.\n",
      "  df_pickup_peak = df_pickup[pd.to_datetime(df_pickup['Stime']).dt.strftime('%H:%M:%S').between(start_time, end_time)]\n",
      "C:\\Users\\86139\\AppData\\Local\\Temp\\ipykernel_20516\\435736147.py:16: UserWarning: Could not infer format, so each element will be parsed individually, falling back to `dateutil`. To ensure parsing is consistent and as-expected, please specify a format.\n",
      "  df_dropoff_peak = df_dropoff[pd.to_datetime(df_dropoff['Etime']).dt.strftime('%H:%M:%S').between(start_time, end_time)]\n",
      "C:\\Users\\86139\\AppData\\Local\\Temp\\ipykernel_20516\\435736147.py:19: UserWarning: Could not infer format, so each element will be parsed individually, falling back to `dateutil`. To ensure parsing is consistent and as-expected, please specify a format.\n",
      "  df_pickup_peak['Stime'] = pd.to_datetime(df_pickup_peak['Stime'])\n",
      "C:\\Users\\86139\\AppData\\Local\\Temp\\ipykernel_20516\\435736147.py:19: SettingWithCopyWarning: \n",
      "A value is trying to be set on a copy of a slice from a DataFrame.\n",
      "Try using .loc[row_indexer,col_indexer] = value instead\n",
      "\n",
      "See the caveats in the documentation: https://pandas.pydata.org/pandas-docs/stable/user_guide/indexing.html#returning-a-view-versus-a-copy\n",
      "  df_pickup_peak['Stime'] = pd.to_datetime(df_pickup_peak['Stime'])\n",
      "C:\\Users\\86139\\AppData\\Local\\Temp\\ipykernel_20516\\435736147.py:20: UserWarning: Could not infer format, so each element will be parsed individually, falling back to `dateutil`. To ensure parsing is consistent and as-expected, please specify a format.\n",
      "  df_dropoff_peak['Etime'] = pd.to_datetime(df_dropoff_peak['Etime'])\n",
      "C:\\Users\\86139\\AppData\\Local\\Temp\\ipykernel_20516\\435736147.py:20: SettingWithCopyWarning: \n",
      "A value is trying to be set on a copy of a slice from a DataFrame.\n",
      "Try using .loc[row_indexer,col_indexer] = value instead\n",
      "\n",
      "See the caveats in the documentation: https://pandas.pydata.org/pandas-docs/stable/user_guide/indexing.html#returning-a-view-versus-a-copy\n",
      "  df_dropoff_peak['Etime'] = pd.to_datetime(df_dropoff_peak['Etime'])\n"
     ]
    }
   ],
   "source": [
    "import pandas as pd  \n",
    "  \n",
    "# 加载数据  \n",
    "df = pd.read_csv('./data/Taxi_clean_data.csv')  \n",
    "  \n",
    "# 提取上车和下车数据  \n",
    "df_pickup = df[['Stime', 'SLng', 'SLat']]  \n",
    "df_dropoff = df[['Etime', 'ELng', 'ELat']]  \n",
    "  \n",
    "# 假设我们要分析的高峰时间段是早上8点到9点  \n",
    "start_time = '08:00:00'  \n",
    "end_time = '09:00:00'  \n",
    "  \n",
    "# 过滤时间段内的数据  \n",
    "df_pickup_peak = df_pickup[pd.to_datetime(df_pickup['Stime']).dt.strftime('%H:%M:%S').between(start_time, end_time)]  \n",
    "df_dropoff_peak = df_dropoff[pd.to_datetime(df_dropoff['Etime']).dt.strftime('%H:%M:%S').between(start_time, end_time)]  \n",
    "  \n",
    "# 将时间字段转换为 datetime 类型（如果还没转换的话）  \n",
    "df_pickup_peak['Stime'] = pd.to_datetime(df_pickup_peak['Stime'])  \n",
    "df_dropoff_peak['Etime'] = pd.to_datetime(df_dropoff_peak['Etime'])"
   ]
  },
  {
   "cell_type": "code",
   "execution_count": 7,
   "id": "2ad315b6",
   "metadata": {},
   "outputs": [],
   "source": [
    "import folium  \n",
    "  \n",
    "# 初始化地图（这里假设我们关注某个城市，比如北京）  \n",
    "m = folium.Map(location=[114.06,22.55], zoom_start=12)  \n",
    "  \n",
    "# 在地图上添加上车位置（红点）  \n",
    "for index, row in df_pickup_peak.iterrows():  \n",
    "    folium.Marker([row['SLat'], row['SLng']], popup=f'上车时间: {row[\"Stime\"].strftime(\"%H:%M:%S\")}', icon=folium.Icon(color='red')).add_to(m)  \n",
    "  \n",
    "# 在地图上添加下车位置（蓝点）  \n",
    "for index, row in df_dropoff_peak.iterrows():  \n",
    "    folium.Marker([row['ELat'], row['ELng']], popup=f'下车时间: {row[\"Etime\"].strftime(\"%H:%M:%S\")}', icon=folium.Icon(color='blue')).add_to(m)  \n",
    "  \n",
    "# 添加标题  \n",
    "m.add_child(folium.map.LayerControl())  \n",
    "m.add_child(folium.Element('<h3>8点:00分:00秒 ~ 9点:00分:00秒的上下车人数分布情况</h3>'))  \n",
    "  \n",
    "# 保存地图为HTML文件  \n",
    "m.save('peak_hour_taxi_locations.html')"
   ]
  },
  {
   "cell_type": "code",
   "execution_count": 1,
   "id": "d76f3c96",
   "metadata": {},
   "outputs": [
    {
     "ename": "SyntaxError",
     "evalue": "invalid decimal literal (1586403752.py, line 9)",
     "output_type": "error",
     "traceback": [
      "\u001b[1;36m  Cell \u001b[1;32mIn[1], line 9\u001b[1;36m\u001b[0m\n\u001b[1;33m    height: 500px;\u001b[0m\n\u001b[1;37m              ^\u001b[0m\n\u001b[1;31mSyntaxError\u001b[0m\u001b[1;31m:\u001b[0m invalid decimal literal\n"
     ]
    }
   ],
   "source": [
    "<!DOCTYPE html>  \n",
    "<html>  \n",
    "<head>  \n",
    "    <meta charset=\"utf-8\">  \n",
    "    <title>高德地图示例</title>  \n",
    "    <style>  \n",
    "        mapContainer {  \n",
    "            width: 100%;  \n",
    "            height: 500px;  \n",
    "        }  \n",
    "    </style>  \n",
    "    <script type=\"text/javascript\" src=\"https://webapi.amap.com/maps?v=1.4.15&key=0336dec2ede32b4db41a3a5917057890\"></script>  \n",
    "    <script type=\"text/javascript\">  \n",
    "        // 初始化地图  \n",
    "        function initMap() {  \n",
    "            var map = new AMap.Map('mapContainer', {  \n",
    "                zoom: 12, // 设置地图缩放级别  \n",
    "                center: [114.06, 22.55] // 设置地图中心点坐标  \n",
    "            });  \n",
    "  \n",
    "            // 可以在这里添加其他地图功能，如标记点、线条、多边形等  \n",
    "        }  \n",
    "    </script>  \n",
    "</head>  \n",
    "<body onload=\"initMap()\">  \n",
    "    <div id=\"mapContainer\"></div>  \n",
    "</body>  \n",
    "</html>"
   ]
  },
  {
   "cell_type": "code",
   "execution_count": null,
   "id": "2266e97a",
   "metadata": {},
   "outputs": [],
   "source": []
  }
 ],
 "metadata": {
  "kernelspec": {
   "display_name": "Python 3 (ipykernel)",
   "language": "python",
   "name": "python3"
  },
  "language_info": {
   "codemirror_mode": {
    "name": "ipython",
    "version": 3
   },
   "file_extension": ".py",
   "mimetype": "text/x-python",
   "name": "python",
   "nbconvert_exporter": "python",
   "pygments_lexer": "ipython3",
   "version": "3.11.5"
  }
 },
 "nbformat": 4,
 "nbformat_minor": 5
}
